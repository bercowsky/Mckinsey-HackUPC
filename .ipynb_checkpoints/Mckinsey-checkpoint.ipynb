{
 "cells": [
  {
   "cell_type": "code",
   "execution_count": 120,
   "id": "2180d582",
   "metadata": {},
   "outputs": [],
   "source": [
    "import csv\n",
    "import pandas as pd\n",
    "import numpy as np\n",
    "import tensorflow as tf\n",
    "from sklearn.model_selection import train_test_split\n",
    "from sklearn.preprocessing import minmax_scale\n",
    "from keras.models import Sequential\n",
    "from keras.layers import Dense\n",
    "from keras.layers import LSTM"
   ]
  },
  {
   "cell_type": "code",
   "execution_count": 121,
   "id": "d9a9d52c",
   "metadata": {},
   "outputs": [],
   "source": [
    "# Load Dataset\n",
    "def load_data():\n",
    "    geo_params = pd.read_csv('../Data/geo_params.csv')\n",
    "    sales = pd.read_csv('../Data/sales.csv')\n",
    "    sku = pd.read_csv('../Data/sku.csv')\n",
    "    test = pd.read_csv('../Data/test.csv')\n",
    "    \n",
    "    ## Transform dataset\n",
    "    \n",
    "    sales['date'] = pd.to_datetime(sales['date'])\n",
    "    \n",
    "    # Fill null values with 0\n",
    "    sales['price'].fillna(0, inplace=True)\n",
    "    sales['sales'].fillna(0, inplace=True)\n",
    "    \n",
    "    # Normalize data\n",
    "    sales[['price','sales']] = minmax_scale(sales[['price','sales']])\n",
    "    \n",
    "    sku.dropna(subset = ['Category'], inplace=True)\n",
    "    #print(sku['Category'])\n",
    "    \n",
    "    del sku['Units'] # Null field\n",
    "    \n",
    "    return geo_params, sales, sku, test"
   ]
  },
  {
   "cell_type": "code",
   "execution_count": null,
   "id": "dfc4fbb3",
   "metadata": {},
   "outputs": [],
   "source": []
  },
  {
   "cell_type": "code",
   "execution_count": 122,
   "id": "9cb00e66",
   "metadata": {},
   "outputs": [
    {
     "name": "stdout",
     "output_type": "stream",
     "text": [
      "       SKU                                           Category  \\\n",
      "0       24                                        Pomegranate   \n",
      "1      208                                   Water, sparkling   \n",
      "2     1008                           Water, import, sparkling   \n",
      "3    16649                                       Water, still   \n",
      "4    20872                                   Water, sparkling   \n",
      "5    26194                      Semi-hard coarse-pored cheese   \n",
      "6    32485                                             Banana   \n",
      "7    32490                                            Avocado   \n",
      "8    32546                                             Orange   \n",
      "9    32549                                         Grapefruit   \n",
      "10   32550                                              Lemon   \n",
      "11   39465                          Water, slightly sparkling   \n",
      "12   47330                      Semi-hard coarse-pored cheese   \n",
      "13   49207                                              Mango   \n",
      "14   49450                              Semi-hard bulk cheese   \n",
      "15   67802                                   Water, sparkling   \n",
      "16   89074                                         Milk cakes   \n",
      "17   96123                                         Grapefruit   \n",
      "18  134544                                               Kiwi   \n",
      "19  144184                                               Lime   \n",
      "20  219078                    Plain long loaf, own production   \n",
      "21  219149                Plain baguette loaf, own production   \n",
      "22  221793          Small flavored bread roll, own production   \n",
      "23  224200      Plain wheat bread, toast-type, own production   \n",
      "24  233272                           Water, import, sparkling   \n",
      "25  259516                          Sweet bun, own production   \n",
      "26  362721                   Plain fancy cake, own production   \n",
      "27  363713  Rye-wheat grain bread baked in the hearth, own...   \n",
      "28  369071                                       Water, still   \n",
      "29  375210  Plain baguette loaf baked in the hearth, own p...   \n",
      "30  437495                         Plain croissant, parbaking   \n",
      "31  440815                                       Water, still   \n",
      "32  503007                   Plain rye-wheat bread, parbaking   \n",
      "33  521941     Fancy strudel with poppy stuff, own production   \n",
      "34  534443                           Water, import, sparkling   \n",
      "35  543663                            Soft cheese, white mold   \n",
      "36  552806  Flavored baguette loaf baked in the hearth, ow...   \n",
      "37  552812  Plain bread roll baked in the hearth, own prod...   \n",
      "38  567970  Plain baguette loaf baked in the hearth, own p...   \n",
      "39  571255                      Semi-hard coarse-pored cheese   \n",
      "40  571258                           Semi-hard layered cheese   \n",
      "41  591899  Flavored wheat bread baked in the hearth, own ...   \n",
      "42  596031  Grain bread roll baked in the hearth, own prod...   \n",
      "44  638673  Small fancy bread with berry stuff, own produc...   \n",
      "45  642700                      Semi-hard coarse-pored cheese   \n",
      "46  650670                                      Milk desserts   \n",
      "47  660399  Flavored wheat bread baked in the hearth, own ...   \n",
      "48  666058  Small fancy bread with berry stuff, own produc...   \n",
      "49  690818                  Ciabatta, light, plain, parbaking   \n",
      "50  711838  Wheat bran bread baked in the hearth, own prod...   \n",
      "51  736357                                           Yoghurts   \n",
      "52  736360                                           Yoghurts   \n",
      "54  787133                                            Avocado   \n",
      "56  815381                                           Mandarin   \n",
      "59  838137                                            Avocado   \n",
      "\n",
      "                                                 Type  brandId  \\\n",
      "0                 Tropical fruit — Pomegranate— Plain      NaN   \n",
      "1       Therapeutic-table water — PET — from 1 to 2 L   1241.0   \n",
      "2            Therapeutic-table water — Import — Glass   1241.0   \n",
      "3           Table water — PET — from 1 to 2 L — Still   1241.0   \n",
      "4       Therapeutic-table water — PET — from 1 to 2 L   2693.0   \n",
      "5   semi-hard cheese — More expensive — National —...   2737.0   \n",
      "6                                      Banana — Plain      NaN   \n",
      "7                            Tropical fruit — Avocado      NaN   \n",
      "8                       Citrus fruit — Orange — Plain      NaN   \n",
      "9                   Citrus fruit — Grapefruit — Plain      NaN   \n",
      "10                       Citrus fruit — Lemon — Plain      NaN   \n",
      "11  Table water — PET — from 1 to 2 L — Slightly s...   1241.0   \n",
      "12  semi-hard cheese — More expensive — National —...   2737.0   \n",
      "13                     Tropical fruit — Mango — Plain      NaN   \n",
      "14  semi-hard cheese — Cheaper— National — Bulk — ...   7418.0   \n",
      "15  Table water — PET — from 1 to 2 L — Strongly s...   1330.0   \n",
      "16                                        Sponge cake   2724.0   \n",
      "17                 Citrus fruit — Grapefruit — Graded      NaN   \n",
      "18                       Tropical fruit — Kiwi— Plain      NaN   \n",
      "19                                Citrus fruit — Lime      NaN   \n",
      "20                              Bread — plain — wheat      NaN   \n",
      "21                              Baguette loaf — plain      NaN   \n",
      "22                                  Small bread rolls      NaN   \n",
      "23                              Bread — plain — wheat      NaN   \n",
      "24             Therapeutic-table water — Import — PET   2737.0   \n",
      "25                        Fancy bread — small — sweet      NaN   \n",
      "26                                            Cupcake      NaN   \n",
      "27                                   Bread — flavored      NaN   \n",
      "28          Table water — PET — from 1 to 2 L — Still   1330.0   \n",
      "29                              Baguette loaf — plain      NaN   \n",
      "30                                          Croissant   8314.0   \n",
      "31                  Table water — PET — more than 3 L   1330.0   \n",
      "32                          Bread — plain — rye-wheat   8274.0   \n",
      "33                        Fancy bread — large — sweet      NaN   \n",
      "34             Therapeutic-table water — Import — PET   1241.0   \n",
      "35  soft cheese — More expensive — Import — White ...   2737.0   \n",
      "36                           Baguette loaf — Flavored      NaN   \n",
      "37                                 Bread roll — plain      NaN   \n",
      "38                              Baguette loaf — plain   2737.0   \n",
      "39  semi-hard cheese — More expensive — National —...   2737.0   \n",
      "40  semi-hard cheese — More expensive — National —...   2737.0   \n",
      "41                                   Bread — flavored      NaN   \n",
      "42                                 Bread roll — grain      NaN   \n",
      "44                        Fancy bread — small — sweet      NaN   \n",
      "45  semi-hard cheese — More expensive — National —...   2737.0   \n",
      "46                        Milk desserts — up to 200 g   2313.0   \n",
      "47                                   Bread — flavored   2737.0   \n",
      "48                        Fancy bread — small — sweet      NaN   \n",
      "49                                           Ciabatta   8274.0   \n",
      "50                              Bread — plain — wheat   2737.0   \n",
      "51                              Yoghurt — firm —plain   8276.0   \n",
      "52                              Yoghurt — firm —plain   8276.0   \n",
      "54            Tropical fruit — Avocado — Ready to Eat      NaN   \n",
      "56                   Citrus fruit — Mandarin — Graded      NaN   \n",
      "59            Tropical fruit — Avocado — Ready to Eat      NaN   \n",
      "\n",
      "    lagerUnitQuantity  trademark  countryOfOrigin            Group  \n",
      "0                1.00        NaN              NaN  Tropical fruits  \n",
      "1                1.50     3670.0              1.0    Mineral water  \n",
      "2                0.50     4970.0             14.0    Mineral water  \n",
      "3                1.50     1323.0              1.0    Mineral water  \n",
      "4                1.50     4384.0              1.0    Mineral water  \n",
      "5                1.00     4891.0             16.0           Cheese  \n",
      "6                1.00        NaN              NaN  Tropical fruits  \n",
      "7                1.00        NaN              NaN  Tropical fruits  \n",
      "8                1.00        NaN              NaN  Tropical fruits  \n",
      "9                1.00        NaN              NaN  Tropical fruits  \n",
      "10               1.00        NaN              NaN  Tropical fruits  \n",
      "11               1.50     1323.0              1.0    Mineral water  \n",
      "12               1.00      297.0             16.0           Cheese  \n",
      "13               1.00        NaN              NaN  Tropical fruits  \n",
      "14               1.00     1192.0              1.0           Cheese  \n",
      "15               2.00     2781.0              1.0    Mineral water  \n",
      "16              28.00     1835.0              NaN          Yogurts  \n",
      "17               1.00        NaN             37.0  Tropical fruits  \n",
      "18               1.00        NaN              NaN  Tropical fruits  \n",
      "19               1.00        NaN              NaN  Tropical fruits  \n",
      "20             500.00     9666.0              1.0           Bakery  \n",
      "21             250.00     9666.0              1.0           Bakery  \n",
      "22              70.00     9666.0              1.0           Bakery  \n",
      "23             550.00     9666.0              1.0           Bakery  \n",
      "24               1.00     1839.0             14.0    Mineral water  \n",
      "25             200.00     9666.0              1.0           Bakery  \n",
      "26             300.00     9666.0              1.0           Bakery  \n",
      "27               1.00    15156.0              1.0           Bakery  \n",
      "28               2.00     2781.0              1.0    Mineral water  \n",
      "29             300.00    15156.0              1.0           Bakery  \n",
      "30              50.00     9666.0              6.0           Bakery  \n",
      "31               6.00     2781.0              1.0    Mineral water  \n",
      "32             340.00        NaN              1.0           Bakery  \n",
      "33               1.00    15156.0              1.0           Bakery  \n",
      "34               0.75     4970.0             14.0    Mineral water  \n",
      "35               1.00     8802.0              6.0           Cheese  \n",
      "36             300.00    15156.0              1.0           Bakery  \n",
      "37             400.00    15156.0              1.0           Bakery  \n",
      "38             300.00     9974.0              1.0           Bakery  \n",
      "39               1.00     1037.0             33.0           Cheese  \n",
      "40               1.00     1037.0             33.0           Cheese  \n",
      "41               1.00    15156.0              1.0           Bakery  \n",
      "42             400.00    15156.0              NaN           Bakery  \n",
      "44              80.00     9666.0              NaN           Bakery  \n",
      "45               1.00    11960.0             16.0           Cheese  \n",
      "46             120.00     1921.0              NaN          Yogurts  \n",
      "47             400.00     9974.0              NaN           Bakery  \n",
      "48              70.00     9666.0              NaN           Bakery  \n",
      "49             250.00     4043.0              NaN           Bakery  \n",
      "50             350.00     9974.0              NaN           Bakery  \n",
      "51             400.00     5070.0              NaN          Yogurts  \n",
      "52             350.00     5070.0              NaN          Yogurts  \n",
      "54               2.00     9666.0              NaN  Tropical fruits  \n",
      "56               1.00     9666.0              NaN  Tropical fruits  \n",
      "59               1.00     9666.0              NaN  Tropical fruits  \n"
     ]
    },
    {
     "ename": "AttributeError",
     "evalue": "'list' object has no attribute 'to_numpy'",
     "output_type": "error",
     "traceback": [
      "\u001b[0;31m---------------------------------------------------------------------------\u001b[0m",
      "\u001b[0;31mAttributeError\u001b[0m                            Traceback (most recent call last)",
      "Input \u001b[0;32mIn [122]\u001b[0m, in \u001b[0;36m<cell line: 4>\u001b[0;34m()\u001b[0m\n\u001b[1;32m      2\u001b[0m \u001b[38;5;28mprint\u001b[39m(sku)\n\u001b[1;32m      3\u001b[0m \u001b[38;5;66;03m# Categories to train the model\u001b[39;00m\n\u001b[0;32m----> 4\u001b[0m cat_aux \u001b[38;5;241m=\u001b[39m (np\u001b[38;5;241m.\u001b[39mconcatenate(\u001b[43m[\u001b[49m\u001b[43mc\u001b[49m\u001b[38;5;241;43m.\u001b[39;49m\u001b[43msplit\u001b[49m\u001b[43m(\u001b[49m\u001b[38;5;124;43m'\u001b[39;49m\u001b[38;5;124;43m,\u001b[39;49m\u001b[38;5;124;43m'\u001b[39;49m\u001b[43m)\u001b[49m\u001b[43m  \u001b[49m\u001b[38;5;28;43;01mfor\u001b[39;49;00m\u001b[43m \u001b[49m\u001b[43mc\u001b[49m\u001b[43m \u001b[49m\u001b[38;5;129;43;01min\u001b[39;49;00m\u001b[43m \u001b[49m\u001b[43msku\u001b[49m\u001b[43m[\u001b[49m\u001b[38;5;124;43m'\u001b[39;49m\u001b[38;5;124;43mCategory\u001b[39;49m\u001b[38;5;124;43m'\u001b[39;49m\u001b[43m]\u001b[49m\u001b[43m]\u001b[49m\u001b[38;5;241;43m.\u001b[39;49m\u001b[43mto_numpy\u001b[49m())\u001b[38;5;241m.\u001b[39mravel())\n\u001b[1;32m      5\u001b[0m Categories \u001b[38;5;241m=\u001b[39m np\u001b[38;5;241m.\u001b[39munique(cat_aux)\n\u001b[1;32m      6\u001b[0m \u001b[38;5;28mprint\u001b[39m(Categories)\n",
      "\u001b[0;31mAttributeError\u001b[0m: 'list' object has no attribute 'to_numpy'"
     ]
    }
   ],
   "source": [
    "[geo_params,sales,sku,test] = load_data()\n",
    "print(sku)\n",
    "# Categories to train the model\n",
    "#cat_aux = (np.concatenate([c.split(',')  for c in sku['Category']]).ravel())\n",
    "#Categories = np.unique(cat_aux)\n",
    "#print(Categories)"
   ]
  },
  {
   "cell_type": "code",
   "execution_count": 97,
   "id": "ba9d83db",
   "metadata": {},
   "outputs": [
    {
     "name": "stdout",
     "output_type": "stream",
     "text": [
      "   geoCluster  cityId\n",
      "0          21       1\n",
      "1          47       1\n",
      "2          48       1\n",
      "3          92       1\n",
      "4         112       1\n"
     ]
    }
   ],
   "source": [
    "# Geo_params Headers\n",
    "print(geo_params.head())"
   ]
  },
  {
   "cell_type": "code",
   "execution_count": 98,
   "id": "5a67d265",
   "metadata": {},
   "outputs": [
    {
     "name": "stdout",
     "output_type": "stream",
     "text": [
      "           ID  geoCluster    SKU       date     price     sales\n",
      "0  RR27956459          92  32485 2021-07-05  0.005284  0.004994\n",
      "1  RR27956474          92  32549 2021-07-05  0.012335  0.000624\n",
      "2  RR27956489         112  32485 2021-05-27  0.006263  0.004619\n",
      "3  RR27956490         112  32485 2021-05-28  0.000000  0.000000\n",
      "4  RR27956491         112  32485 2021-05-29  0.000000  0.000000\n"
     ]
    }
   ],
   "source": [
    "# Sales Headers\n",
    "print(sales.head())"
   ]
  },
  {
   "cell_type": "code",
   "execution_count": 99,
   "id": "ba113e39",
   "metadata": {},
   "outputs": [
    {
     "name": "stdout",
     "output_type": "stream",
     "text": [
      "     SKU                      Category  \\\n",
      "0     24                 [Pomegranate]   \n",
      "1    208           [Water,  sparkling]   \n",
      "2   1008  [Water,  import,  sparkling]   \n",
      "3  16649               [Water,  still]   \n",
      "4  20872           [Water,  sparkling]   \n",
      "\n",
      "                                            Type  brandId  lagerUnitQuantity  \\\n",
      "0            Tropical fruit — Pomegranate— Plain      NaN                1.0   \n",
      "1  Therapeutic-table water — PET — from 1 to 2 L   1241.0                1.5   \n",
      "2       Therapeutic-table water — Import — Glass   1241.0                0.5   \n",
      "3      Table water — PET — from 1 to 2 L — Still   1241.0                1.5   \n",
      "4  Therapeutic-table water — PET — from 1 to 2 L   2693.0                1.5   \n",
      "\n",
      "   trademark  countryOfOrigin            Group  \n",
      "0        NaN              NaN  Tropical fruits  \n",
      "1     3670.0              1.0    Mineral water  \n",
      "2     4970.0             14.0    Mineral water  \n",
      "3     1323.0              1.0    Mineral water  \n",
      "4     4384.0              1.0    Mineral water  \n"
     ]
    }
   ],
   "source": [
    "# Sku Headers\n",
    "print(sku.head())"
   ]
  },
  {
   "cell_type": "code",
   "execution_count": 100,
   "id": "0fa5ddf7",
   "metadata": {
    "scrolled": true
   },
   "outputs": [
    {
     "name": "stdout",
     "output_type": "stream",
     "text": [
      "           ID  geoCluster    SKU        date  price_filled  sales\n",
      "0  RR27956447          21  32485  2021-07-08         39.69    NaN\n",
      "1  RR27956448          21  32485  2021-07-09         39.69    NaN\n",
      "2  RR27956449          21  32485  2021-07-10         39.69    NaN\n",
      "3  RR27956450          21  32485  2021-07-11         39.69    NaN\n",
      "4  RR27956451          21  32485  2021-07-12         39.69    NaN\n"
     ]
    }
   ],
   "source": [
    "# Test Headers\n",
    "print(test.head())"
   ]
  },
  {
   "cell_type": "code",
   "execution_count": 117,
   "id": "d72316da",
   "metadata": {
    "scrolled": false
   },
   "outputs": [
    {
     "name": "stdout",
     "output_type": "stream",
     "text": [
      "                 ID  geoCluster     SKU       date     price     sales  \\\n",
      "0        RR27956459          92   32485 2021-07-05  0.005284  0.004994   \n",
      "1        RR27956489         112   32485 2021-05-27  0.006263  0.004619   \n",
      "2        RR27956490         112   32485 2021-05-28  0.000000  0.000000   \n",
      "3        RR27956491         112   32485 2021-05-29  0.000000  0.000000   \n",
      "4        RR27956492         112   32485 2021-05-30  0.000000  0.000000   \n",
      "...             ...         ...     ...        ...       ...       ...   \n",
      "4121838  RR55905027        3209  362721 2021-07-01  0.005104  0.001248   \n",
      "4121839  RR55905028        3209  362721 2021-07-02  0.005104  0.002497   \n",
      "4121840  RR55905029        3209  362721 2021-07-03  0.000000  0.000000   \n",
      "4121841  RR55905030        3209  362721 2021-07-04  0.005104  0.009988   \n",
      "4121842  RR55905031        3209  362721 2021-07-05  0.005104  0.002497   \n",
      "\n",
      "                                    Category            Type  brandId  \\\n",
      "0                                   [Banana]  Banana — Plain      NaN   \n",
      "1                                   [Banana]  Banana — Plain      NaN   \n",
      "2                                   [Banana]  Banana — Plain      NaN   \n",
      "3                                   [Banana]  Banana — Plain      NaN   \n",
      "4                                   [Banana]  Banana — Plain      NaN   \n",
      "...                                      ...             ...      ...   \n",
      "4121838  [Plain fancy cake,  own production]         Cupcake      NaN   \n",
      "4121839  [Plain fancy cake,  own production]         Cupcake      NaN   \n",
      "4121840  [Plain fancy cake,  own production]         Cupcake      NaN   \n",
      "4121841  [Plain fancy cake,  own production]         Cupcake      NaN   \n",
      "4121842  [Plain fancy cake,  own production]         Cupcake      NaN   \n",
      "\n",
      "         lagerUnitQuantity  trademark  countryOfOrigin            Group  \n",
      "0                      1.0        NaN              NaN  Tropical fruits  \n",
      "1                      1.0        NaN              NaN  Tropical fruits  \n",
      "2                      1.0        NaN              NaN  Tropical fruits  \n",
      "3                      1.0        NaN              NaN  Tropical fruits  \n",
      "4                      1.0        NaN              NaN  Tropical fruits  \n",
      "...                    ...        ...              ...              ...  \n",
      "4121838              300.0     9666.0              1.0           Bakery  \n",
      "4121839              300.0     9666.0              1.0           Bakery  \n",
      "4121840              300.0     9666.0              1.0           Bakery  \n",
      "4121841              300.0     9666.0              1.0           Bakery  \n",
      "4121842              300.0     9666.0              1.0           Bakery  \n",
      "\n",
      "[4121843 rows x 13 columns]\n"
     ]
    }
   ],
   "source": [
    "# Merge table sales and sku\n",
    "\n",
    "df = pd.merge(sales, sku, on='SKU', how='inner')\n",
    "(df.set_index(df.columns.drop('Category',1).tolist())['Category']\n",
    "   .str.split(',', expand=True)\n",
    "   .stack()\n",
    "   .reset_index()\n",
    "   .rename(columns={0:'Category'})\n",
    "   .loc[:, df.columns]\n",
    ")\n",
    "df.head()\n",
    "print(df)"
   ]
  },
  {
   "cell_type": "code",
   "execution_count": 102,
   "id": "9590d8c3",
   "metadata": {
    "scrolled": true
   },
   "outputs": [
    {
     "name": "stdout",
     "output_type": "stream",
     "text": [
      "ID                           object\n",
      "geoCluster                    int64\n",
      "SKU                           int64\n",
      "date                 datetime64[ns]\n",
      "price                       float64\n",
      "sales                       float64\n",
      "Category                     object\n",
      "Type                         object\n",
      "brandId                     float64\n",
      "lagerUnitQuantity           float64\n",
      "trademark                   float64\n",
      "countryOfOrigin             float64\n",
      "Group                        object\n",
      "dtype: object\n"
     ]
    }
   ],
   "source": [
    "# Types of columns\n",
    "\n",
    "print(df.dtypes)"
   ]
  },
  {
   "cell_type": "code",
   "execution_count": 51,
   "id": "cd6422a7",
   "metadata": {},
   "outputs": [],
   "source": [
    "# Load train and test set\n",
    "\n",
    "def load_sets(data):\n",
    "    X = data[['date', 'price']].copy()\n",
    "    y = data[['sales']].copy()\n",
    "    trainX, testX, trainY, testY = train_test_split(X, y, test_size=0.1, shuffle=False)\n",
    "    return trainX, trainY, testX, testY"
   ]
  },
  {
   "cell_type": "code",
   "execution_count": 109,
   "id": "3583a886",
   "metadata": {},
   "outputs": [
    {
     "name": "stdout",
     "output_type": "stream",
     "text": [
      "import\n",
      "0                                     [Banana]\n",
      "1                                     [Banana]\n",
      "2                                     [Banana]\n",
      "3                                     [Banana]\n",
      "4                                     [Banana]\n",
      "                          ...                 \n",
      "4121838    [Plain fancy cake,  own production]\n",
      "4121839    [Plain fancy cake,  own production]\n",
      "4121840    [Plain fancy cake,  own production]\n",
      "4121841    [Plain fancy cake,  own production]\n",
      "4121842    [Plain fancy cake,  own production]\n",
      "Name: Category, Length: 4121843, dtype: object\n"
     ]
    },
    {
     "ename": "ValueError",
     "evalue": "With n_samples=0, test_size=0.1 and train_size=None, the resulting train set will be empty. Adjust any of the aforementioned parameters.",
     "output_type": "error",
     "traceback": [
      "\u001b[0;31m---------------------------------------------------------------------------\u001b[0m",
      "\u001b[0;31mValueError\u001b[0m                                Traceback (most recent call last)",
      "Input \u001b[0;32mIn [109]\u001b[0m, in \u001b[0;36m<cell line: 2>\u001b[0;34m()\u001b[0m\n\u001b[1;32m      4\u001b[0m \u001b[38;5;28mprint\u001b[39m(df[\u001b[38;5;124m'\u001b[39m\u001b[38;5;124mCategory\u001b[39m\u001b[38;5;124m'\u001b[39m])\n\u001b[1;32m      5\u001b[0m data \u001b[38;5;241m=\u001b[39m df\u001b[38;5;241m.\u001b[39mloc[df[\u001b[38;5;124m'\u001b[39m\u001b[38;5;124mCategory\u001b[39m\u001b[38;5;124m'\u001b[39m] \u001b[38;5;241m==\u001b[39m category]\n\u001b[0;32m----> 7\u001b[0m trainX, trainY, testX, testY \u001b[38;5;241m=\u001b[39m \u001b[43mload_sets\u001b[49m\u001b[43m(\u001b[49m\u001b[43mdata\u001b[49m\u001b[43m)\u001b[49m\n",
      "Input \u001b[0;32mIn [51]\u001b[0m, in \u001b[0;36mload_sets\u001b[0;34m(data)\u001b[0m\n\u001b[1;32m      4\u001b[0m X \u001b[38;5;241m=\u001b[39m data[[\u001b[38;5;124m'\u001b[39m\u001b[38;5;124mdate\u001b[39m\u001b[38;5;124m'\u001b[39m, \u001b[38;5;124m'\u001b[39m\u001b[38;5;124mprice\u001b[39m\u001b[38;5;124m'\u001b[39m]]\u001b[38;5;241m.\u001b[39mcopy()\n\u001b[1;32m      5\u001b[0m y \u001b[38;5;241m=\u001b[39m data[[\u001b[38;5;124m'\u001b[39m\u001b[38;5;124msales\u001b[39m\u001b[38;5;124m'\u001b[39m]]\u001b[38;5;241m.\u001b[39mcopy()\n\u001b[0;32m----> 6\u001b[0m trainX, testX, trainY, testY \u001b[38;5;241m=\u001b[39m \u001b[43mtrain_test_split\u001b[49m\u001b[43m(\u001b[49m\u001b[43mX\u001b[49m\u001b[43m,\u001b[49m\u001b[43m \u001b[49m\u001b[43my\u001b[49m\u001b[43m,\u001b[49m\u001b[43m \u001b[49m\u001b[43mtest_size\u001b[49m\u001b[38;5;241;43m=\u001b[39;49m\u001b[38;5;241;43m0.1\u001b[39;49m\u001b[43m,\u001b[49m\u001b[43m \u001b[49m\u001b[43mshuffle\u001b[49m\u001b[38;5;241;43m=\u001b[39;49m\u001b[38;5;28;43;01mFalse\u001b[39;49;00m\u001b[43m)\u001b[49m\n\u001b[1;32m      7\u001b[0m \u001b[38;5;28;01mreturn\u001b[39;00m trainX, trainY, testX, testY\n",
      "File \u001b[0;32m~/miniforge3/envs/env_tf/lib/python3.9/site-packages/sklearn/model_selection/_split.py:2420\u001b[0m, in \u001b[0;36mtrain_test_split\u001b[0;34m(test_size, train_size, random_state, shuffle, stratify, *arrays)\u001b[0m\n\u001b[1;32m   2417\u001b[0m arrays \u001b[38;5;241m=\u001b[39m indexable(\u001b[38;5;241m*\u001b[39marrays)\n\u001b[1;32m   2419\u001b[0m n_samples \u001b[38;5;241m=\u001b[39m _num_samples(arrays[\u001b[38;5;241m0\u001b[39m])\n\u001b[0;32m-> 2420\u001b[0m n_train, n_test \u001b[38;5;241m=\u001b[39m \u001b[43m_validate_shuffle_split\u001b[49m\u001b[43m(\u001b[49m\n\u001b[1;32m   2421\u001b[0m \u001b[43m    \u001b[49m\u001b[43mn_samples\u001b[49m\u001b[43m,\u001b[49m\u001b[43m \u001b[49m\u001b[43mtest_size\u001b[49m\u001b[43m,\u001b[49m\u001b[43m \u001b[49m\u001b[43mtrain_size\u001b[49m\u001b[43m,\u001b[49m\u001b[43m \u001b[49m\u001b[43mdefault_test_size\u001b[49m\u001b[38;5;241;43m=\u001b[39;49m\u001b[38;5;241;43m0.25\u001b[39;49m\n\u001b[1;32m   2422\u001b[0m \u001b[43m\u001b[49m\u001b[43m)\u001b[49m\n\u001b[1;32m   2424\u001b[0m \u001b[38;5;28;01mif\u001b[39;00m shuffle \u001b[38;5;129;01mis\u001b[39;00m \u001b[38;5;28;01mFalse\u001b[39;00m:\n\u001b[1;32m   2425\u001b[0m     \u001b[38;5;28;01mif\u001b[39;00m stratify \u001b[38;5;129;01mis\u001b[39;00m \u001b[38;5;129;01mnot\u001b[39;00m \u001b[38;5;28;01mNone\u001b[39;00m:\n",
      "File \u001b[0;32m~/miniforge3/envs/env_tf/lib/python3.9/site-packages/sklearn/model_selection/_split.py:2098\u001b[0m, in \u001b[0;36m_validate_shuffle_split\u001b[0;34m(n_samples, test_size, train_size, default_test_size)\u001b[0m\n\u001b[1;32m   2095\u001b[0m n_train, n_test \u001b[38;5;241m=\u001b[39m \u001b[38;5;28mint\u001b[39m(n_train), \u001b[38;5;28mint\u001b[39m(n_test)\n\u001b[1;32m   2097\u001b[0m \u001b[38;5;28;01mif\u001b[39;00m n_train \u001b[38;5;241m==\u001b[39m \u001b[38;5;241m0\u001b[39m:\n\u001b[0;32m-> 2098\u001b[0m     \u001b[38;5;28;01mraise\u001b[39;00m \u001b[38;5;167;01mValueError\u001b[39;00m(\n\u001b[1;32m   2099\u001b[0m         \u001b[38;5;124m\"\u001b[39m\u001b[38;5;124mWith n_samples=\u001b[39m\u001b[38;5;132;01m{}\u001b[39;00m\u001b[38;5;124m, test_size=\u001b[39m\u001b[38;5;132;01m{}\u001b[39;00m\u001b[38;5;124m and train_size=\u001b[39m\u001b[38;5;132;01m{}\u001b[39;00m\u001b[38;5;124m, the \u001b[39m\u001b[38;5;124m\"\u001b[39m\n\u001b[1;32m   2100\u001b[0m         \u001b[38;5;124m\"\u001b[39m\u001b[38;5;124mresulting train set will be empty. Adjust any of the \u001b[39m\u001b[38;5;124m\"\u001b[39m\n\u001b[1;32m   2101\u001b[0m         \u001b[38;5;124m\"\u001b[39m\u001b[38;5;124maforementioned parameters.\u001b[39m\u001b[38;5;124m\"\u001b[39m\u001b[38;5;241m.\u001b[39mformat(n_samples, test_size, train_size)\n\u001b[1;32m   2102\u001b[0m     )\n\u001b[1;32m   2104\u001b[0m \u001b[38;5;28;01mreturn\u001b[39;00m n_train, n_test\n",
      "\u001b[0;31mValueError\u001b[0m: With n_samples=0, test_size=0.1 and train_size=None, the resulting train set will be empty. Adjust any of the aforementioned parameters."
     ]
    }
   ],
   "source": [
    "# Train 1 model for each category\n",
    "for category in Categories:\n",
    "    print(category.strip())\n",
    "    print(df['Category'])\n",
    "    data = df.loc[df['Category'] == category]\n",
    "    \n",
    "    trainX, trainY, testX, testY = load_sets(data)\n",
    "    \n",
    "    \n",
    "#print(category, trainX.shape, trainY.shape, testX.shape, testY.shape)\n",
    "#print(Categories)"
   ]
  },
  {
   "cell_type": "code",
   "execution_count": null,
   "id": "af80b7af",
   "metadata": {},
   "outputs": [],
   "source": []
  },
  {
   "cell_type": "code",
   "execution_count": 29,
   "id": "81e5da25",
   "metadata": {},
   "outputs": [
    {
     "ename": "NameError",
     "evalue": "name 'train' is not defined",
     "output_type": "error",
     "traceback": [
      "\u001b[0;31m---------------------------------------------------------------------------\u001b[0m",
      "\u001b[0;31mNameError\u001b[0m                                 Traceback (most recent call last)",
      "Input \u001b[0;32mIn [29]\u001b[0m, in \u001b[0;36m<cell line: 1>\u001b[0;34m()\u001b[0m\n\u001b[0;32m----> 1\u001b[0m trainX \u001b[38;5;241m=\u001b[39m \u001b[43mtrain\u001b[49m\u001b[38;5;241m.\u001b[39miloc[:, :\u001b[38;5;241m-\u001b[39m\u001b[38;5;241m1\u001b[39m]\u001b[38;5;241m.\u001b[39mto_numpy()\n\u001b[1;32m      2\u001b[0m trainY \u001b[38;5;241m=\u001b[39m train\u001b[38;5;241m.\u001b[39miloc[:, \u001b[38;5;241m-\u001b[39m\u001b[38;5;241m1\u001b[39m]\u001b[38;5;241m.\u001b[39mto_numpy()\n\u001b[1;32m      4\u001b[0m testX \u001b[38;5;241m=\u001b[39m test\u001b[38;5;241m.\u001b[39miloc[:, :\u001b[38;5;241m-\u001b[39m\u001b[38;5;241m1\u001b[39m]\u001b[38;5;241m.\u001b[39mto_numpy()\n",
      "\u001b[0;31mNameError\u001b[0m: name 'train' is not defined"
     ]
    }
   ],
   "source": [
    "trainX = train.iloc[:, :-1].to_numpy()\n",
    "trainY = train.iloc[:, -1].to_numpy()\n",
    "\n",
    "testX = test.iloc[:, :-1].to_numpy()\n",
    "testY = test.iloc[:, -1].to_numpy()\n",
    "\n",
    "\n",
    "# reshape input to be [samples, time steps, features]\n",
    "trainX = np.reshape(trainX, (trainX.shape[0], 1, trainX.shape[1]))\n",
    "testX = np.reshape(testX, (testX.shape[0], 1, testX.shape[1]))\n",
    "\n"
   ]
  },
  {
   "cell_type": "code",
   "execution_count": null,
   "id": "25423e48",
   "metadata": {},
   "outputs": [],
   "source": [
    "# create and fit the LSTM network\n",
    "\n",
    "look_back = 1\n",
    "model = Sequential()\n",
    "model.add(LSTM(4, input_shape=(1, look_back)))\n",
    "model.add(Dense(1))\n",
    "model.compile(loss='mean_squared_error', optimizer='adam')\n",
    "model.fit(trainX, trainY, epochs=100, batch_size=1, verbose=2)"
   ]
  },
  {
   "cell_type": "code",
   "execution_count": null,
   "id": "d63d1064",
   "metadata": {},
   "outputs": [],
   "source": [
    "lstm_model(train, test)"
   ]
  },
  {
   "cell_type": "code",
   "execution_count": null,
   "id": "bafb833f",
   "metadata": {},
   "outputs": [],
   "source": []
  }
 ],
 "metadata": {
  "kernelspec": {
   "display_name": "Python 3 (ipykernel)",
   "language": "python",
   "name": "python3"
  },
  "language_info": {
   "codemirror_mode": {
    "name": "ipython",
    "version": 3
   },
   "file_extension": ".py",
   "mimetype": "text/x-python",
   "name": "python",
   "nbconvert_exporter": "python",
   "pygments_lexer": "ipython3",
   "version": "3.9.12"
  }
 },
 "nbformat": 4,
 "nbformat_minor": 5
}
