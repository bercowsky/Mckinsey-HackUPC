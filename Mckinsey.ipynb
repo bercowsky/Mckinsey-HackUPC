{
 "cells": [
  {
   "cell_type": "code",
   "execution_count": 61,
   "id": "8d185c7a",
   "metadata": {},
   "outputs": [],
   "source": [
    "import tensorflow as tf"
   ]
  },
  {
   "cell_type": "code",
   "execution_count": 62,
   "id": "2180d582",
   "metadata": {},
   "outputs": [],
   "source": [
    "import csv\n",
    "import pandas as pd\n",
    "import numpy as np\n",
    "import tensorflow as tf\n",
    "from sklearn.model_selection import train_test_split\n",
    "from sklearn.preprocessing import minmax_scale\n",
    "from keras.models import Sequential\n",
    "from keras.layers import Dense\n",
    "from keras.layers import LSTM"
   ]
  },
  {
   "cell_type": "code",
   "execution_count": 63,
   "id": "d9a9d52c",
   "metadata": {},
   "outputs": [],
   "source": [
    "# Load Dataset\n",
    "\n",
    "def load_data():\n",
    "    geo_params = pd.read_csv('../Data/geo_params.csv')\n",
    "    sales = pd.read_csv('../Data/sales.csv')\n",
    "    sku = pd.read_csv('../Data/sku.csv')\n",
    "    test = pd.read_csv('../Data/test.csv')\n",
    "    \n",
    "    return [geo_params, sales, sku, test]"
   ]
  },
  {
   "cell_type": "code",
   "execution_count": 64,
   "id": "9cb00e66",
   "metadata": {},
   "outputs": [],
   "source": [
    "[geo_params,sales,sku,test] = load_data()"
   ]
  },
  {
   "cell_type": "code",
   "execution_count": 65,
   "id": "ba9d83db",
   "metadata": {},
   "outputs": [
    {
     "name": "stdout",
     "output_type": "stream",
     "text": [
      "   geoCluster  cityId\n",
      "0          21       1\n",
      "1          47       1\n",
      "2          48       1\n",
      "3          92       1\n",
      "4         112       1\n"
     ]
    }
   ],
   "source": [
    "# Geo_params Headers\n",
    "\n",
    "print(geo_params.head())"
   ]
  },
  {
   "cell_type": "code",
   "execution_count": 66,
   "id": "5a67d265",
   "metadata": {},
   "outputs": [
    {
     "name": "stdout",
     "output_type": "stream",
     "text": [
      "           ID  geoCluster    SKU        date  price  sales\n",
      "0  RR27956459          92  32485  2021-07-05  38.29    4.0\n",
      "1  RR27956474          92  32549  2021-07-05  89.39    0.5\n",
      "2  RR27956489         112  32485  2021-05-27  45.39    3.7\n",
      "3  RR27956490         112  32485  2021-05-28    NaN    NaN\n",
      "4  RR27956491         112  32485  2021-05-29    NaN    NaN\n"
     ]
    }
   ],
   "source": [
    "# Sales Headers\n",
    "\n",
    "print(sales.head())"
   ]
  },
  {
   "cell_type": "code",
   "execution_count": 67,
   "id": "ba113e39",
   "metadata": {},
   "outputs": [
    {
     "name": "stdout",
     "output_type": "stream",
     "text": [
      "     SKU                  Category  \\\n",
      "0     24               Pomegranate   \n",
      "1    208          Water, sparkling   \n",
      "2   1008  Water, import, sparkling   \n",
      "3  16649              Water, still   \n",
      "4  20872          Water, sparkling   \n",
      "\n",
      "                                            Type  brandId  lagerUnitQuantity  \\\n",
      "0            Tropical fruit — Pomegranate— Plain      NaN                1.0   \n",
      "1  Therapeutic-table water — PET — from 1 to 2 L   1241.0                1.5   \n",
      "2       Therapeutic-table water — Import — Glass   1241.0                0.5   \n",
      "3      Table water — PET — from 1 to 2 L — Still   1241.0                1.5   \n",
      "4  Therapeutic-table water — PET — from 1 to 2 L   2693.0                1.5   \n",
      "\n",
      "   trademark  countryOfOrigin            Group  \n",
      "0        NaN              NaN  Tropical fruits  \n",
      "1     3670.0              1.0    Mineral water  \n",
      "2     4970.0             14.0    Mineral water  \n",
      "3     1323.0              1.0    Mineral water  \n",
      "4     4384.0              1.0    Mineral water  \n"
     ]
    }
   ],
   "source": [
    "# Sku Headers\n",
    "del sku['Units'] # Null field\n",
    "print(sku.head())"
   ]
  },
  {
   "cell_type": "code",
   "execution_count": 68,
   "id": "0fa5ddf7",
   "metadata": {
    "scrolled": true
   },
   "outputs": [
    {
     "name": "stdout",
     "output_type": "stream",
     "text": [
      "           ID  geoCluster    SKU        date  price_filled  sales\n",
      "0  RR27956447          21  32485  2021-07-08         39.69    NaN\n",
      "1  RR27956448          21  32485  2021-07-09         39.69    NaN\n",
      "2  RR27956449          21  32485  2021-07-10         39.69    NaN\n",
      "3  RR27956450          21  32485  2021-07-11         39.69    NaN\n",
      "4  RR27956451          21  32485  2021-07-12         39.69    NaN\n"
     ]
    }
   ],
   "source": [
    "# Test Headers\n",
    "\n",
    "print(test.head())"
   ]
  },
  {
   "cell_type": "code",
   "execution_count": 69,
   "id": "d72316da",
   "metadata": {
    "scrolled": true
   },
   "outputs": [],
   "source": [
    "df = pd.merge(sales, sku, on='SKU', how='inner')\n",
    "df.head()\n",
    "df['geoCluster'] = df['geoCluster'].astype('float32')\n",
    "df['SKU'] = df['SKU'].astype('float32')\n",
    "df['price'] = df['price'].astype('float32')\n",
    "df['sales'] = df['sales'].astype('float32')\n",
    "# geoCluste, date, price, sales, category, type, "
   ]
  },
  {
   "cell_type": "code",
   "execution_count": 70,
   "id": "9590d8c3",
   "metadata": {},
   "outputs": [
    {
     "name": "stdout",
     "output_type": "stream",
     "text": [
      "2329612\n",
      "4605985\n",
      "ID                    object\n",
      "geoCluster           float32\n",
      "SKU                  float32\n",
      "date                  object\n",
      "price                float32\n",
      "sales                float32\n",
      "Category              object\n",
      "Type                  object\n",
      "brandId              float64\n",
      "lagerUnitQuantity    float64\n",
      "trademark            float64\n",
      "countryOfOrigin      float64\n",
      "Group                 object\n",
      "dtype: object\n"
     ]
    }
   ],
   "source": [
    "#print(dt[dt.trademark == 'NaN'])\n",
    "print(df['countryOfOrigin'].isna().sum())\n",
    "print(len(df))\n",
    "print(df.dtypes)"
   ]
  },
  {
   "cell_type": "code",
   "execution_count": 54,
   "id": "f866d4a3",
   "metadata": {
    "scrolled": true
   },
   "outputs": [
    {
     "data": {
      "text/html": [
       "<div>\n",
       "<style scoped>\n",
       "    .dataframe tbody tr th:only-of-type {\n",
       "        vertical-align: middle;\n",
       "    }\n",
       "\n",
       "    .dataframe tbody tr th {\n",
       "        vertical-align: top;\n",
       "    }\n",
       "\n",
       "    .dataframe thead th {\n",
       "        text-align: right;\n",
       "    }\n",
       "</style>\n",
       "<table border=\"1\" class=\"dataframe\">\n",
       "  <thead>\n",
       "    <tr style=\"text-align: right;\">\n",
       "      <th></th>\n",
       "      <th>ID</th>\n",
       "      <th>geoCluster</th>\n",
       "      <th>SKU</th>\n",
       "      <th>date</th>\n",
       "      <th>price</th>\n",
       "      <th>sales</th>\n",
       "      <th>Category</th>\n",
       "      <th>Type</th>\n",
       "      <th>brandId</th>\n",
       "      <th>lagerUnitQuantity</th>\n",
       "      <th>trademark</th>\n",
       "      <th>countryOfOrigin</th>\n",
       "      <th>Group</th>\n",
       "    </tr>\n",
       "  </thead>\n",
       "  <tbody>\n",
       "    <tr>\n",
       "      <th>0</th>\n",
       "      <td>RR27956459</td>\n",
       "      <td>92.0</td>\n",
       "      <td>32485</td>\n",
       "      <td>2021-07-05</td>\n",
       "      <td>38.290001</td>\n",
       "      <td>4.0</td>\n",
       "      <td>Banana</td>\n",
       "      <td>Banana — Plain</td>\n",
       "      <td>0.0</td>\n",
       "      <td>1.0</td>\n",
       "      <td>0.0</td>\n",
       "      <td>0.0</td>\n",
       "      <td>Tropical fruits</td>\n",
       "    </tr>\n",
       "    <tr>\n",
       "      <th>1</th>\n",
       "      <td>RR27956489</td>\n",
       "      <td>112.0</td>\n",
       "      <td>32485</td>\n",
       "      <td>2021-05-27</td>\n",
       "      <td>45.389999</td>\n",
       "      <td>3.7</td>\n",
       "      <td>Banana</td>\n",
       "      <td>Banana — Plain</td>\n",
       "      <td>0.0</td>\n",
       "      <td>1.0</td>\n",
       "      <td>0.0</td>\n",
       "      <td>0.0</td>\n",
       "      <td>Tropical fruits</td>\n",
       "    </tr>\n",
       "    <tr>\n",
       "      <th>2</th>\n",
       "      <td>RR27956490</td>\n",
       "      <td>112.0</td>\n",
       "      <td>32485</td>\n",
       "      <td>2021-05-28</td>\n",
       "      <td>0.000000</td>\n",
       "      <td>0.0</td>\n",
       "      <td>Banana</td>\n",
       "      <td>Banana — Plain</td>\n",
       "      <td>0.0</td>\n",
       "      <td>1.0</td>\n",
       "      <td>0.0</td>\n",
       "      <td>0.0</td>\n",
       "      <td>Tropical fruits</td>\n",
       "    </tr>\n",
       "    <tr>\n",
       "      <th>3</th>\n",
       "      <td>RR27956491</td>\n",
       "      <td>112.0</td>\n",
       "      <td>32485</td>\n",
       "      <td>2021-05-29</td>\n",
       "      <td>0.000000</td>\n",
       "      <td>0.0</td>\n",
       "      <td>Banana</td>\n",
       "      <td>Banana — Plain</td>\n",
       "      <td>0.0</td>\n",
       "      <td>1.0</td>\n",
       "      <td>0.0</td>\n",
       "      <td>0.0</td>\n",
       "      <td>Tropical fruits</td>\n",
       "    </tr>\n",
       "    <tr>\n",
       "      <th>4</th>\n",
       "      <td>RR27956492</td>\n",
       "      <td>112.0</td>\n",
       "      <td>32485</td>\n",
       "      <td>2021-05-30</td>\n",
       "      <td>0.000000</td>\n",
       "      <td>0.0</td>\n",
       "      <td>Banana</td>\n",
       "      <td>Banana — Plain</td>\n",
       "      <td>0.0</td>\n",
       "      <td>1.0</td>\n",
       "      <td>0.0</td>\n",
       "      <td>0.0</td>\n",
       "      <td>Tropical fruits</td>\n",
       "    </tr>\n",
       "    <tr>\n",
       "      <th>...</th>\n",
       "      <td>...</td>\n",
       "      <td>...</td>\n",
       "      <td>...</td>\n",
       "      <td>...</td>\n",
       "      <td>...</td>\n",
       "      <td>...</td>\n",
       "      <td>...</td>\n",
       "      <td>...</td>\n",
       "      <td>...</td>\n",
       "      <td>...</td>\n",
       "      <td>...</td>\n",
       "      <td>...</td>\n",
       "      <td>...</td>\n",
       "    </tr>\n",
       "    <tr>\n",
       "      <th>4605980</th>\n",
       "      <td>RR55905027</td>\n",
       "      <td>3209.0</td>\n",
       "      <td>362721</td>\n",
       "      <td>2021-07-01</td>\n",
       "      <td>36.990002</td>\n",
       "      <td>1.0</td>\n",
       "      <td>Plain fancy cake, own production</td>\n",
       "      <td>Cupcake</td>\n",
       "      <td>0.0</td>\n",
       "      <td>300.0</td>\n",
       "      <td>9666.0</td>\n",
       "      <td>1.0</td>\n",
       "      <td>Bakery</td>\n",
       "    </tr>\n",
       "    <tr>\n",
       "      <th>4605981</th>\n",
       "      <td>RR55905028</td>\n",
       "      <td>3209.0</td>\n",
       "      <td>362721</td>\n",
       "      <td>2021-07-02</td>\n",
       "      <td>36.990002</td>\n",
       "      <td>2.0</td>\n",
       "      <td>Plain fancy cake, own production</td>\n",
       "      <td>Cupcake</td>\n",
       "      <td>0.0</td>\n",
       "      <td>300.0</td>\n",
       "      <td>9666.0</td>\n",
       "      <td>1.0</td>\n",
       "      <td>Bakery</td>\n",
       "    </tr>\n",
       "    <tr>\n",
       "      <th>4605982</th>\n",
       "      <td>RR55905029</td>\n",
       "      <td>3209.0</td>\n",
       "      <td>362721</td>\n",
       "      <td>2021-07-03</td>\n",
       "      <td>0.000000</td>\n",
       "      <td>0.0</td>\n",
       "      <td>Plain fancy cake, own production</td>\n",
       "      <td>Cupcake</td>\n",
       "      <td>0.0</td>\n",
       "      <td>300.0</td>\n",
       "      <td>9666.0</td>\n",
       "      <td>1.0</td>\n",
       "      <td>Bakery</td>\n",
       "    </tr>\n",
       "    <tr>\n",
       "      <th>4605983</th>\n",
       "      <td>RR55905030</td>\n",
       "      <td>3209.0</td>\n",
       "      <td>362721</td>\n",
       "      <td>2021-07-04</td>\n",
       "      <td>36.990002</td>\n",
       "      <td>8.0</td>\n",
       "      <td>Plain fancy cake, own production</td>\n",
       "      <td>Cupcake</td>\n",
       "      <td>0.0</td>\n",
       "      <td>300.0</td>\n",
       "      <td>9666.0</td>\n",
       "      <td>1.0</td>\n",
       "      <td>Bakery</td>\n",
       "    </tr>\n",
       "    <tr>\n",
       "      <th>4605984</th>\n",
       "      <td>RR55905031</td>\n",
       "      <td>3209.0</td>\n",
       "      <td>362721</td>\n",
       "      <td>2021-07-05</td>\n",
       "      <td>36.990002</td>\n",
       "      <td>2.0</td>\n",
       "      <td>Plain fancy cake, own production</td>\n",
       "      <td>Cupcake</td>\n",
       "      <td>0.0</td>\n",
       "      <td>300.0</td>\n",
       "      <td>9666.0</td>\n",
       "      <td>1.0</td>\n",
       "      <td>Bakery</td>\n",
       "    </tr>\n",
       "  </tbody>\n",
       "</table>\n",
       "<p>4605985 rows × 13 columns</p>\n",
       "</div>"
      ],
      "text/plain": [
       "                 ID  geoCluster     SKU        date      price  sales  \\\n",
       "0        RR27956459        92.0   32485  2021-07-05  38.290001    4.0   \n",
       "1        RR27956489       112.0   32485  2021-05-27  45.389999    3.7   \n",
       "2        RR27956490       112.0   32485  2021-05-28   0.000000    0.0   \n",
       "3        RR27956491       112.0   32485  2021-05-29   0.000000    0.0   \n",
       "4        RR27956492       112.0   32485  2021-05-30   0.000000    0.0   \n",
       "...             ...         ...     ...         ...        ...    ...   \n",
       "4605980  RR55905027      3209.0  362721  2021-07-01  36.990002    1.0   \n",
       "4605981  RR55905028      3209.0  362721  2021-07-02  36.990002    2.0   \n",
       "4605982  RR55905029      3209.0  362721  2021-07-03   0.000000    0.0   \n",
       "4605983  RR55905030      3209.0  362721  2021-07-04  36.990002    8.0   \n",
       "4605984  RR55905031      3209.0  362721  2021-07-05  36.990002    2.0   \n",
       "\n",
       "                                 Category            Type  brandId  \\\n",
       "0                                  Banana  Banana — Plain      0.0   \n",
       "1                                  Banana  Banana — Plain      0.0   \n",
       "2                                  Banana  Banana — Plain      0.0   \n",
       "3                                  Banana  Banana — Plain      0.0   \n",
       "4                                  Banana  Banana — Plain      0.0   \n",
       "...                                   ...             ...      ...   \n",
       "4605980  Plain fancy cake, own production         Cupcake      0.0   \n",
       "4605981  Plain fancy cake, own production         Cupcake      0.0   \n",
       "4605982  Plain fancy cake, own production         Cupcake      0.0   \n",
       "4605983  Plain fancy cake, own production         Cupcake      0.0   \n",
       "4605984  Plain fancy cake, own production         Cupcake      0.0   \n",
       "\n",
       "         lagerUnitQuantity  trademark  countryOfOrigin            Group  \n",
       "0                      1.0        0.0              0.0  Tropical fruits  \n",
       "1                      1.0        0.0              0.0  Tropical fruits  \n",
       "2                      1.0        0.0              0.0  Tropical fruits  \n",
       "3                      1.0        0.0              0.0  Tropical fruits  \n",
       "4                      1.0        0.0              0.0  Tropical fruits  \n",
       "...                    ...        ...              ...              ...  \n",
       "4605980              300.0     9666.0              1.0           Bakery  \n",
       "4605981              300.0     9666.0              1.0           Bakery  \n",
       "4605982              300.0     9666.0              1.0           Bakery  \n",
       "4605983              300.0     9666.0              1.0           Bakery  \n",
       "4605984              300.0     9666.0              1.0           Bakery  \n",
       "\n",
       "[4605985 rows x 13 columns]"
      ]
     },
     "execution_count": 54,
     "metadata": {},
     "output_type": "execute_result"
    }
   ],
   "source": [
    "# Fill null values with 0\n",
    "\n",
    "df.fillna(0)"
   ]
  },
  {
   "cell_type": "code",
   "execution_count": 55,
   "id": "cc6c33e3",
   "metadata": {},
   "outputs": [],
   "source": [
    "# normalize the dataset\n",
    "\n",
    "df[['price','sales']] = minmax_scale(df[['price','sales']])"
   ]
  },
  {
   "cell_type": "code",
   "execution_count": 56,
   "id": "fe409c4d",
   "metadata": {},
   "outputs": [],
   "source": [
    "train, test = train_test_split(df, test_size=0.1)"
   ]
  },
  {
   "cell_type": "code",
   "execution_count": 57,
   "id": "e2a358f8",
   "metadata": {},
   "outputs": [],
   "source": [
    "trainX = train.iloc[:, :-1].to_numpy()\n",
    "trainY = train.iloc[:, -1].to_numpy()\n",
    "\n",
    "testX = test.iloc[:, :-1].to_numpy()\n",
    "testY = test.iloc[:, -1].to_numpy()\n",
    "\n",
    "\n",
    "# reshape input to be [samples, time steps, features]\n",
    "trainX = np.reshape(trainX, (trainX.shape[0], 1, trainX.shape[1]))\n",
    "testX = np.reshape(testX, (testX.shape[0], 1, testX.shape[1]))\n",
    "\n"
   ]
  },
  {
   "cell_type": "code",
   "execution_count": 58,
   "id": "25423e48",
   "metadata": {},
   "outputs": [
    {
     "ename": "ValueError",
     "evalue": "Failed to convert a NumPy array to a Tensor (Unsupported object type float).",
     "output_type": "error",
     "traceback": [
      "\u001b[0;31m---------------------------------------------------------------------------\u001b[0m",
      "\u001b[0;31mValueError\u001b[0m                                Traceback (most recent call last)",
      "Input \u001b[0;32mIn [58]\u001b[0m, in \u001b[0;36m<cell line: 8>\u001b[0;34m()\u001b[0m\n\u001b[1;32m      6\u001b[0m model\u001b[38;5;241m.\u001b[39madd(Dense(\u001b[38;5;241m1\u001b[39m))\n\u001b[1;32m      7\u001b[0m model\u001b[38;5;241m.\u001b[39mcompile(loss\u001b[38;5;241m=\u001b[39m\u001b[38;5;124m'\u001b[39m\u001b[38;5;124mmean_squared_error\u001b[39m\u001b[38;5;124m'\u001b[39m, optimizer\u001b[38;5;241m=\u001b[39m\u001b[38;5;124m'\u001b[39m\u001b[38;5;124madam\u001b[39m\u001b[38;5;124m'\u001b[39m)\n\u001b[0;32m----> 8\u001b[0m \u001b[43mmodel\u001b[49m\u001b[38;5;241;43m.\u001b[39;49m\u001b[43mfit\u001b[49m\u001b[43m(\u001b[49m\u001b[43mtrainX\u001b[49m\u001b[43m,\u001b[49m\u001b[43m \u001b[49m\u001b[43mtrainY\u001b[49m\u001b[43m,\u001b[49m\u001b[43m \u001b[49m\u001b[43mepochs\u001b[49m\u001b[38;5;241;43m=\u001b[39;49m\u001b[38;5;241;43m100\u001b[39;49m\u001b[43m,\u001b[49m\u001b[43m \u001b[49m\u001b[43mbatch_size\u001b[49m\u001b[38;5;241;43m=\u001b[39;49m\u001b[38;5;241;43m1\u001b[39;49m\u001b[43m,\u001b[49m\u001b[43m \u001b[49m\u001b[43mverbose\u001b[49m\u001b[38;5;241;43m=\u001b[39;49m\u001b[38;5;241;43m2\u001b[39;49m\u001b[43m)\u001b[49m\n",
      "File \u001b[0;32m~/miniforge3/lib/python3.9/site-packages/keras/utils/traceback_utils.py:67\u001b[0m, in \u001b[0;36mfilter_traceback.<locals>.error_handler\u001b[0;34m(*args, **kwargs)\u001b[0m\n\u001b[1;32m     65\u001b[0m \u001b[38;5;28;01mexcept\u001b[39;00m \u001b[38;5;167;01mException\u001b[39;00m \u001b[38;5;28;01mas\u001b[39;00m e:  \u001b[38;5;66;03m# pylint: disable=broad-except\u001b[39;00m\n\u001b[1;32m     66\u001b[0m   filtered_tb \u001b[38;5;241m=\u001b[39m _process_traceback_frames(e\u001b[38;5;241m.\u001b[39m__traceback__)\n\u001b[0;32m---> 67\u001b[0m   \u001b[38;5;28;01mraise\u001b[39;00m e\u001b[38;5;241m.\u001b[39mwith_traceback(filtered_tb) \u001b[38;5;28;01mfrom\u001b[39;00m \u001b[38;5;28mNone\u001b[39m\n\u001b[1;32m     68\u001b[0m \u001b[38;5;28;01mfinally\u001b[39;00m:\n\u001b[1;32m     69\u001b[0m   \u001b[38;5;28;01mdel\u001b[39;00m filtered_tb\n",
      "File \u001b[0;32m~/miniforge3/lib/python3.9/site-packages/tensorflow/python/framework/constant_op.py:102\u001b[0m, in \u001b[0;36mconvert_to_eager_tensor\u001b[0;34m(value, ctx, dtype)\u001b[0m\n\u001b[1;32m    100\u001b[0m     dtype \u001b[38;5;241m=\u001b[39m dtypes\u001b[38;5;241m.\u001b[39mas_dtype(dtype)\u001b[38;5;241m.\u001b[39mas_datatype_enum\n\u001b[1;32m    101\u001b[0m ctx\u001b[38;5;241m.\u001b[39mensure_initialized()\n\u001b[0;32m--> 102\u001b[0m \u001b[38;5;28;01mreturn\u001b[39;00m \u001b[43mops\u001b[49m\u001b[38;5;241;43m.\u001b[39;49m\u001b[43mEagerTensor\u001b[49m\u001b[43m(\u001b[49m\u001b[43mvalue\u001b[49m\u001b[43m,\u001b[49m\u001b[43m \u001b[49m\u001b[43mctx\u001b[49m\u001b[38;5;241;43m.\u001b[39;49m\u001b[43mdevice_name\u001b[49m\u001b[43m,\u001b[49m\u001b[43m \u001b[49m\u001b[43mdtype\u001b[49m\u001b[43m)\u001b[49m\n",
      "\u001b[0;31mValueError\u001b[0m: Failed to convert a NumPy array to a Tensor (Unsupported object type float)."
     ]
    }
   ],
   "source": [
    "# create and fit the LSTM network\n",
    "\n",
    "look_back = 1\n",
    "model = Sequential()\n",
    "model.add(LSTM(4, input_shape=(1, look_back)))\n",
    "model.add(Dense(1))\n",
    "model.compile(loss='mean_squared_error', optimizer='adam')\n",
    "model.fit(trainX, trainY, epochs=100, batch_size=1, verbose=2)"
   ]
  },
  {
   "cell_type": "code",
   "execution_count": null,
   "id": "d63d1064",
   "metadata": {},
   "outputs": [],
   "source": [
    "lstm_model(train, test)"
   ]
  },
  {
   "cell_type": "code",
   "execution_count": null,
   "id": "760562b2",
   "metadata": {},
   "outputs": [],
   "source": []
  }
 ],
 "metadata": {
  "kernelspec": {
   "display_name": "Python 3 (ipykernel)",
   "language": "python",
   "name": "python3"
  },
  "language_info": {
   "codemirror_mode": {
    "name": "ipython",
    "version": 3
   },
   "file_extension": ".py",
   "mimetype": "text/x-python",
   "name": "python",
   "nbconvert_exporter": "python",
   "pygments_lexer": "ipython3",
   "version": "3.9.10"
  }
 },
 "nbformat": 4,
 "nbformat_minor": 5
}
