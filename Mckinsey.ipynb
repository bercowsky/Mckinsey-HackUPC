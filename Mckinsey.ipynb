{
 "cells": [
  {
   "cell_type": "code",
   "execution_count": 1,
   "id": "2180d582",
   "metadata": {},
   "outputs": [],
   "source": [
    "import csv\n",
    "import pandas as pd\n",
    "import numpy as np\n",
    "import tensorflow as tf\n",
    "import matplotlib as plot\n",
    "from sklearn.model_selection import train_test_split\n",
    "from sklearn.preprocessing import MinMaxScaler\n",
    "from keras.models import Sequential\n",
    "from keras.layers import Dense\n",
    "from keras.layers import LSTM\n",
    "from datetime import datetime"
   ]
  },
  {
   "cell_type": "code",
   "execution_count": 2,
   "id": "d9a9d52c",
   "metadata": {},
   "outputs": [],
   "source": [
    "# Load Dataset\n",
    "\n",
    "def load_data():\n",
    "    geo_params = pd.read_csv('../Data/geo_params.csv')\n",
    "    sales = pd.read_csv('../Data/sales.csv')\n",
    "    sku = pd.read_csv('../Data/sku.csv')\n",
    "    test = pd.read_csv('../Data/test.csv')\n",
    "    \n",
    "    \n",
    "    ## Transform dataset\n",
    "    \n",
    "    sales['date'] = pd.to_datetime(sales['date']).dt.strftime('%Y%m%d').astype('float32')\n",
    "    #sales['date'] = pd.to_datetime(sales['date'])\n",
    "    #sales['date'] = sales['date'].astype(int)\n",
    "    #sales['date'] = sales['date'].apply(lambda x: int(x))\n",
    "    \n",
    "    # Fill null values with 0\n",
    "    sales['price'].fillna(0, inplace=True)\n",
    "    sales['sales'].fillna(0, inplace=True)\n",
    "    \n",
    "    # Delete data above 90th percentil\n",
    "    #sales = sales[sales['price'] < sales['price'].quantile(.95)]\n",
    "    #sales = sales[sales['sales'] < sales['sales'].quantile(.95)]\n",
    "    \n",
    "    # Normalize data\n",
    "    x = sales[['date', 'price', 'date']].values #returns a numpy array\n",
    "    min_max_scaler = MinMaxScaler()\n",
    "    x_scaled = min_max_scaler.fit_transform(x)\n",
    "    sales[['date', 'price', 'date']] = pd.DataFrame(x_scaled)\n",
    "\n",
    "    \n",
    "    # sales[['date','price','sales']] = normalize(sales[['date','price','sales']])\n",
    "    print(sales.describe().transpose())\n",
    "    \n",
    "    sku.dropna(subset = ['Category'], inplace=True)\n",
    "    del sku['Units'] # Null field\n",
    "    \n",
    "    return geo_params, sales, sku, test"
   ]
  },
  {
   "cell_type": "code",
   "execution_count": 3,
   "id": "9cb00e66",
   "metadata": {
    "scrolled": false
   },
   "outputs": [
    {
     "name": "stdout",
     "output_type": "stream",
     "text": [
      "                count           mean            std   min           25%  \\\n",
      "geoCluster  4605985.0    2220.030811     245.924925  92.0   2049.000000   \n",
      "SKU         4605985.0  367135.310983  300513.500537  24.0  39465.000000   \n",
      "date        4605985.0       0.540246       0.448238   0.0      0.076952   \n",
      "price       4605985.0       0.001574       0.005981   0.0      0.000000   \n",
      "sales       4605985.0       0.607308       2.330636   0.0      0.000000   \n",
      "\n",
      "                      50%            75%       max  \n",
      "geoCluster    2158.000000    2269.000000    3230.0  \n",
      "SKU         363713.000000  642700.000000  838137.0  \n",
      "date             0.943795       0.972463       1.0  \n",
      "price            0.000000       0.000000       1.0  \n",
      "sales            0.000000       0.000000     801.0  \n"
     ]
    }
   ],
   "source": [
    "geo_params, sales, sku, test = load_data()\n",
    "\n",
    "# Categories to train the model\n",
    "Categories = sku['Category'].unique()\n",
    "geoClusters = geo_params['geoCluster'].unique()"
   ]
  },
  {
   "cell_type": "code",
   "execution_count": 4,
   "id": "ba9d83db",
   "metadata": {},
   "outputs": [
    {
     "name": "stdout",
     "output_type": "stream",
     "text": [
      "   geoCluster  cityId\n",
      "0          21       1\n",
      "1          47       1\n",
      "2          48       1\n",
      "3          92       1\n",
      "4         112       1\n"
     ]
    }
   ],
   "source": [
    "# Geo_params Headers\n",
    "\n",
    "print(geo_params.head())"
   ]
  },
  {
   "cell_type": "code",
   "execution_count": 5,
   "id": "5a67d265",
   "metadata": {},
   "outputs": [
    {
     "name": "stdout",
     "output_type": "stream",
     "text": [
      "           ID  geoCluster    SKU      date     price  sales\n",
      "0  RR27956459          92  32485  1.000000  0.005284    4.0\n",
      "1  RR27956474          92  32549  1.000000  0.012335    0.5\n",
      "2  RR27956489         112  32485  0.983402  0.006263    3.7\n",
      "3  RR27956490         112  32485  0.983402  0.000000    0.0\n",
      "4  RR27956491         112  32485  0.983402  0.000000    0.0\n"
     ]
    }
   ],
   "source": [
    "# Sales Headers\n",
    "\n",
    "print(sales.head())"
   ]
  },
  {
   "cell_type": "code",
   "execution_count": 6,
   "id": "ba113e39",
   "metadata": {},
   "outputs": [
    {
     "name": "stdout",
     "output_type": "stream",
     "text": [
      "     SKU                  Category  \\\n",
      "0     24               Pomegranate   \n",
      "1    208          Water, sparkling   \n",
      "2   1008  Water, import, sparkling   \n",
      "3  16649              Water, still   \n",
      "4  20872          Water, sparkling   \n",
      "\n",
      "                                            Type  brandId  lagerUnitQuantity  \\\n",
      "0            Tropical fruit — Pomegranate— Plain      NaN                1.0   \n",
      "1  Therapeutic-table water — PET — from 1 to 2 L   1241.0                1.5   \n",
      "2       Therapeutic-table water — Import — Glass   1241.0                0.5   \n",
      "3      Table water — PET — from 1 to 2 L — Still   1241.0                1.5   \n",
      "4  Therapeutic-table water — PET — from 1 to 2 L   2693.0                1.5   \n",
      "\n",
      "   trademark  countryOfOrigin            Group  \n",
      "0        NaN              NaN  Tropical fruits  \n",
      "1     3670.0              1.0    Mineral water  \n",
      "2     4970.0             14.0    Mineral water  \n",
      "3     1323.0              1.0    Mineral water  \n",
      "4     4384.0              1.0    Mineral water  \n"
     ]
    }
   ],
   "source": [
    "# Sku Headers\n",
    "\n",
    "print(sku.head())"
   ]
  },
  {
   "cell_type": "code",
   "execution_count": 7,
   "id": "0fa5ddf7",
   "metadata": {
    "scrolled": true
   },
   "outputs": [
    {
     "name": "stdout",
     "output_type": "stream",
     "text": [
      "           ID  geoCluster    SKU        date  price_filled  sales\n",
      "0  RR27956447          21  32485  2021-07-08         39.69    NaN\n",
      "1  RR27956448          21  32485  2021-07-09         39.69    NaN\n",
      "2  RR27956449          21  32485  2021-07-10         39.69    NaN\n",
      "3  RR27956450          21  32485  2021-07-11         39.69    NaN\n",
      "4  RR27956451          21  32485  2021-07-12         39.69    NaN\n"
     ]
    }
   ],
   "source": [
    "# Test Headers\n",
    "\n",
    "print(test.head())"
   ]
  },
  {
   "cell_type": "code",
   "execution_count": 8,
   "id": "d72316da",
   "metadata": {
    "scrolled": false
   },
   "outputs": [
    {
     "data": {
      "text/html": [
       "<div>\n",
       "<style scoped>\n",
       "    .dataframe tbody tr th:only-of-type {\n",
       "        vertical-align: middle;\n",
       "    }\n",
       "\n",
       "    .dataframe tbody tr th {\n",
       "        vertical-align: top;\n",
       "    }\n",
       "\n",
       "    .dataframe thead th {\n",
       "        text-align: right;\n",
       "    }\n",
       "</style>\n",
       "<table border=\"1\" class=\"dataframe\">\n",
       "  <thead>\n",
       "    <tr style=\"text-align: right;\">\n",
       "      <th></th>\n",
       "      <th>ID</th>\n",
       "      <th>geoCluster</th>\n",
       "      <th>SKU</th>\n",
       "      <th>date</th>\n",
       "      <th>price</th>\n",
       "      <th>sales</th>\n",
       "      <th>Category</th>\n",
       "      <th>Type</th>\n",
       "      <th>brandId</th>\n",
       "      <th>lagerUnitQuantity</th>\n",
       "      <th>trademark</th>\n",
       "      <th>countryOfOrigin</th>\n",
       "      <th>Group</th>\n",
       "    </tr>\n",
       "  </thead>\n",
       "  <tbody>\n",
       "    <tr>\n",
       "      <th>0</th>\n",
       "      <td>RR27956459</td>\n",
       "      <td>92</td>\n",
       "      <td>32485</td>\n",
       "      <td>1.000000</td>\n",
       "      <td>0.005284</td>\n",
       "      <td>4.0</td>\n",
       "      <td>Banana</td>\n",
       "      <td>Banana — Plain</td>\n",
       "      <td>NaN</td>\n",
       "      <td>1.0</td>\n",
       "      <td>NaN</td>\n",
       "      <td>NaN</td>\n",
       "      <td>Tropical fruits</td>\n",
       "    </tr>\n",
       "    <tr>\n",
       "      <th>1</th>\n",
       "      <td>RR27956489</td>\n",
       "      <td>112</td>\n",
       "      <td>32485</td>\n",
       "      <td>0.983402</td>\n",
       "      <td>0.006263</td>\n",
       "      <td>3.7</td>\n",
       "      <td>Banana</td>\n",
       "      <td>Banana — Plain</td>\n",
       "      <td>NaN</td>\n",
       "      <td>1.0</td>\n",
       "      <td>NaN</td>\n",
       "      <td>NaN</td>\n",
       "      <td>Tropical fruits</td>\n",
       "    </tr>\n",
       "    <tr>\n",
       "      <th>2</th>\n",
       "      <td>RR27956490</td>\n",
       "      <td>112</td>\n",
       "      <td>32485</td>\n",
       "      <td>0.983402</td>\n",
       "      <td>0.000000</td>\n",
       "      <td>0.0</td>\n",
       "      <td>Banana</td>\n",
       "      <td>Banana — Plain</td>\n",
       "      <td>NaN</td>\n",
       "      <td>1.0</td>\n",
       "      <td>NaN</td>\n",
       "      <td>NaN</td>\n",
       "      <td>Tropical fruits</td>\n",
       "    </tr>\n",
       "    <tr>\n",
       "      <th>3</th>\n",
       "      <td>RR27956491</td>\n",
       "      <td>112</td>\n",
       "      <td>32485</td>\n",
       "      <td>0.983402</td>\n",
       "      <td>0.000000</td>\n",
       "      <td>0.0</td>\n",
       "      <td>Banana</td>\n",
       "      <td>Banana — Plain</td>\n",
       "      <td>NaN</td>\n",
       "      <td>1.0</td>\n",
       "      <td>NaN</td>\n",
       "      <td>NaN</td>\n",
       "      <td>Tropical fruits</td>\n",
       "    </tr>\n",
       "    <tr>\n",
       "      <th>4</th>\n",
       "      <td>RR27956492</td>\n",
       "      <td>112</td>\n",
       "      <td>32485</td>\n",
       "      <td>0.983591</td>\n",
       "      <td>0.000000</td>\n",
       "      <td>0.0</td>\n",
       "      <td>Banana</td>\n",
       "      <td>Banana — Plain</td>\n",
       "      <td>NaN</td>\n",
       "      <td>1.0</td>\n",
       "      <td>NaN</td>\n",
       "      <td>NaN</td>\n",
       "      <td>Tropical fruits</td>\n",
       "    </tr>\n",
       "  </tbody>\n",
       "</table>\n",
       "</div>"
      ],
      "text/plain": [
       "           ID  geoCluster    SKU      date     price  sales Category  \\\n",
       "0  RR27956459          92  32485  1.000000  0.005284    4.0   Banana   \n",
       "1  RR27956489         112  32485  0.983402  0.006263    3.7   Banana   \n",
       "2  RR27956490         112  32485  0.983402  0.000000    0.0   Banana   \n",
       "3  RR27956491         112  32485  0.983402  0.000000    0.0   Banana   \n",
       "4  RR27956492         112  32485  0.983591  0.000000    0.0   Banana   \n",
       "\n",
       "             Type  brandId  lagerUnitQuantity  trademark  countryOfOrigin  \\\n",
       "0  Banana — Plain      NaN                1.0        NaN              NaN   \n",
       "1  Banana — Plain      NaN                1.0        NaN              NaN   \n",
       "2  Banana — Plain      NaN                1.0        NaN              NaN   \n",
       "3  Banana — Plain      NaN                1.0        NaN              NaN   \n",
       "4  Banana — Plain      NaN                1.0        NaN              NaN   \n",
       "\n",
       "             Group  \n",
       "0  Tropical fruits  \n",
       "1  Tropical fruits  \n",
       "2  Tropical fruits  \n",
       "3  Tropical fruits  \n",
       "4  Tropical fruits  "
      ]
     },
     "execution_count": 8,
     "metadata": {},
     "output_type": "execute_result"
    }
   ],
   "source": [
    "# Merge table sales and sku\n",
    "\n",
    "df = pd.merge(sales, sku, on='SKU', how='inner')\n",
    "df.head()"
   ]
  },
  {
   "cell_type": "code",
   "execution_count": 9,
   "id": "9590d8c3",
   "metadata": {
    "scrolled": true
   },
   "outputs": [
    {
     "name": "stdout",
     "output_type": "stream",
     "text": [
      "ID                    object\n",
      "geoCluster             int64\n",
      "SKU                    int64\n",
      "date                 float64\n",
      "price                float64\n",
      "sales                float64\n",
      "Category              object\n",
      "Type                  object\n",
      "brandId              float64\n",
      "lagerUnitQuantity    float64\n",
      "trademark            float64\n",
      "countryOfOrigin      float64\n",
      "Group                 object\n",
      "dtype: object\n"
     ]
    }
   ],
   "source": [
    "# Types of columns\n",
    "\n",
    "print(df.dtypes)"
   ]
  },
  {
   "cell_type": "code",
   "execution_count": 10,
   "id": "e88007ab",
   "metadata": {},
   "outputs": [],
   "source": [
    "# Load train and test set\n",
    "\n",
    "def load_sets(data):\n",
    "    X = data[['date', 'price', 'geoCluster']].sort_values(by=['date', 'geoCluster']).copy()\n",
    "    y = data[['sales']].copy()\n",
    "    trainX, testX, trainY, testY = train_test_split(X, y, test_size=0.1, shuffle=False)\n",
    "    return trainX, trainY, testX, testY"
   ]
  },
  {
   "cell_type": "code",
   "execution_count": 11,
   "id": "cec3e51c",
   "metadata": {
    "scrolled": true
   },
   "outputs": [
    {
     "data": {
      "text/plain": [
       "<AxesSubplot:>"
      ]
     },
     "execution_count": 11,
     "metadata": {},
     "output_type": "execute_result"
    },
    {
     "data": {
      "image/png": "[encoded data removed]",
      "text/plain": [
       "<Figure size 432x288 with 1 Axes>"
      ]
     },
     "metadata": {
      "needs_background": "light"
     },
     "output_type": "display_data"
    }
   ],
   "source": [
    "df['price'].loc[df['Category'] == 'Lemon'].plot()"
   ]
  },
  {
   "cell_type": "code",
   "execution_count": 12,
   "id": "21b2d052",
   "metadata": {
    "scrolled": true
   },
   "outputs": [
    {
     "data": {
      "text/plain": [
       "<AxesSubplot:>"
      ]
     },
     "execution_count": 12,
     "metadata": {},
     "output_type": "execute_result"
    },
    {
     "data": {
      "image/png": "[encoded data removed]",
      "text/plain": [
       "<Figure size 432x288 with 1 Axes>"
      ]
     },
     "metadata": {
      "needs_background": "light"
     },
     "output_type": "display_data"
    }
   ],
   "source": [
    "df['sales'].loc[df['Category'] == 'Lemon'].plot()"
   ]
  },
  {
   "cell_type": "code",
   "execution_count": 13,
   "id": "da663559",
   "metadata": {},
   "outputs": [
    {
     "data": {
      "text/html": [
       "<div>\n",
       "<style scoped>\n",
       "    .dataframe tbody tr th:only-of-type {\n",
       "        vertical-align: middle;\n",
       "    }\n",
       "\n",
       "    .dataframe tbody tr th {\n",
       "        vertical-align: top;\n",
       "    }\n",
       "\n",
       "    .dataframe thead th {\n",
       "        text-align: right;\n",
       "    }\n",
       "</style>\n",
       "<table border=\"1\" class=\"dataframe\">\n",
       "  <thead>\n",
       "    <tr style=\"text-align: right;\">\n",
       "      <th></th>\n",
       "      <th>count</th>\n",
       "      <th>mean</th>\n",
       "      <th>std</th>\n",
       "      <th>min</th>\n",
       "      <th>25%</th>\n",
       "      <th>50%</th>\n",
       "      <th>75%</th>\n",
       "      <th>max</th>\n",
       "    </tr>\n",
       "  </thead>\n",
       "  <tbody>\n",
       "    <tr>\n",
       "      <th>geoCluster</th>\n",
       "      <td>4121843.0</td>\n",
       "      <td>2220.864916</td>\n",
       "      <td>246.626276</td>\n",
       "      <td>92.0</td>\n",
       "      <td>2050.000000</td>\n",
       "      <td>2158.000000</td>\n",
       "      <td>2269.000000</td>\n",
       "      <td>3230.0</td>\n",
       "    </tr>\n",
       "    <tr>\n",
       "      <th>SKU</th>\n",
       "      <td>4121843.0</td>\n",
       "      <td>320003.957123</td>\n",
       "      <td>281188.046682</td>\n",
       "      <td>24.0</td>\n",
       "      <td>32550.000000</td>\n",
       "      <td>233272.000000</td>\n",
       "      <td>571258.000000</td>\n",
       "      <td>838137.0</td>\n",
       "    </tr>\n",
       "    <tr>\n",
       "      <th>date</th>\n",
       "      <td>4121843.0</td>\n",
       "      <td>0.544690</td>\n",
       "      <td>0.447954</td>\n",
       "      <td>0.0</td>\n",
       "      <td>0.076952</td>\n",
       "      <td>0.943983</td>\n",
       "      <td>0.972463</td>\n",
       "      <td>1.0</td>\n",
       "    </tr>\n",
       "    <tr>\n",
       "      <th>price</th>\n",
       "      <td>4121843.0</td>\n",
       "      <td>0.001648</td>\n",
       "      <td>0.006256</td>\n",
       "      <td>0.0</td>\n",
       "      <td>0.000000</td>\n",
       "      <td>0.000000</td>\n",
       "      <td>0.000000</td>\n",
       "      <td>1.0</td>\n",
       "    </tr>\n",
       "    <tr>\n",
       "      <th>sales</th>\n",
       "      <td>4121843.0</td>\n",
       "      <td>0.630283</td>\n",
       "      <td>2.413480</td>\n",
       "      <td>0.0</td>\n",
       "      <td>0.000000</td>\n",
       "      <td>0.000000</td>\n",
       "      <td>0.000000</td>\n",
       "      <td>801.0</td>\n",
       "    </tr>\n",
       "    <tr>\n",
       "      <th>brandId</th>\n",
       "      <td>2131067.0</td>\n",
       "      <td>3517.037445</td>\n",
       "      <td>2571.798615</td>\n",
       "      <td>1241.0</td>\n",
       "      <td>1330.000000</td>\n",
       "      <td>2737.000000</td>\n",
       "      <td>2737.000000</td>\n",
       "      <td>8314.0</td>\n",
       "    </tr>\n",
       "    <tr>\n",
       "      <th>lagerUnitQuantity</th>\n",
       "      <td>4121843.0</td>\n",
       "      <td>89.180218</td>\n",
       "      <td>148.311992</td>\n",
       "      <td>0.5</td>\n",
       "      <td>1.000000</td>\n",
       "      <td>1.000000</td>\n",
       "      <td>120.000000</td>\n",
       "      <td>550.0</td>\n",
       "    </tr>\n",
       "    <tr>\n",
       "      <th>trademark</th>\n",
       "      <td>3064130.0</td>\n",
       "      <td>6716.793651</td>\n",
       "      <td>4541.424014</td>\n",
       "      <td>297.0</td>\n",
       "      <td>2781.000000</td>\n",
       "      <td>5070.000000</td>\n",
       "      <td>9666.000000</td>\n",
       "      <td>15156.0</td>\n",
       "    </tr>\n",
       "    <tr>\n",
       "      <th>countryOfOrigin</th>\n",
       "      <td>2276373.0</td>\n",
       "      <td>7.333040</td>\n",
       "      <td>10.094390</td>\n",
       "      <td>1.0</td>\n",
       "      <td>1.000000</td>\n",
       "      <td>1.000000</td>\n",
       "      <td>14.000000</td>\n",
       "      <td>37.0</td>\n",
       "    </tr>\n",
       "  </tbody>\n",
       "</table>\n",
       "</div>"
      ],
      "text/plain": [
       "                       count           mean            std     min  \\\n",
       "geoCluster         4121843.0    2220.864916     246.626276    92.0   \n",
       "SKU                4121843.0  320003.957123  281188.046682    24.0   \n",
       "date               4121843.0       0.544690       0.447954     0.0   \n",
       "price              4121843.0       0.001648       0.006256     0.0   \n",
       "sales              4121843.0       0.630283       2.413480     0.0   \n",
       "brandId            2131067.0    3517.037445    2571.798615  1241.0   \n",
       "lagerUnitQuantity  4121843.0      89.180218     148.311992     0.5   \n",
       "trademark          3064130.0    6716.793651    4541.424014   297.0   \n",
       "countryOfOrigin    2276373.0       7.333040      10.094390     1.0   \n",
       "\n",
       "                            25%            50%            75%       max  \n",
       "geoCluster          2050.000000    2158.000000    2269.000000    3230.0  \n",
       "SKU                32550.000000  233272.000000  571258.000000  838137.0  \n",
       "date                   0.076952       0.943983       0.972463       1.0  \n",
       "price                  0.000000       0.000000       0.000000       1.0  \n",
       "sales                  0.000000       0.000000       0.000000     801.0  \n",
       "brandId             1330.000000    2737.000000    2737.000000    8314.0  \n",
       "lagerUnitQuantity      1.000000       1.000000     120.000000     550.0  \n",
       "trademark           2781.000000    5070.000000    9666.000000   15156.0  \n",
       "countryOfOrigin        1.000000       1.000000      14.000000      37.0  "
      ]
     },
     "execution_count": 13,
     "metadata": {},
     "output_type": "execute_result"
    }
   ],
   "source": [
    "df.describe().transpose()"
   ]
  },
  {
   "cell_type": "code",
   "execution_count": 14,
   "id": "505feb9c",
   "metadata": {},
   "outputs": [
    {
     "name": "stdout",
     "output_type": "stream",
     "text": [
      "Metal device set to: Apple M1 Max\n",
      "Epoch 1/20\n"
     ]
    },
    {
     "name": "stderr",
     "output_type": "stream",
     "text": [
      "2022-05-01 10:53:46.017429: I tensorflow/core/common_runtime/pluggable_device/pluggable_device_factory.cc:305] Could not identify NUMA node of platform GPU ID 0, defaulting to 0. Your kernel may not have been built with NUMA support.\n",
      "2022-05-01 10:53:46.017534: I tensorflow/core/common_runtime/pluggable_device/pluggable_device_factory.cc:271] Created TensorFlow device (/job:localhost/replica:0/task:0/device:GPU:0 with 0 MB memory) -> physical PluggableDevice (device: 0, name: METAL, pci bus id: <undefined>)\n",
      "2022-05-01 10:53:46.064791: W tensorflow/core/platform/profile_utils/cpu_utils.cc:128] Failed to get CPU frequency: 0 Hz\n",
      "2022-05-01 10:53:46.752522: I tensorflow/core/grappler/optimizers/custom_graph_optimizer_registry.cc:113] Plugin optimizer for device_type GPU is enabled.\n",
      "2022-05-01 10:53:46.839118: I tensorflow/core/grappler/optimizers/custom_graph_optimizer_registry.cc:113] Plugin optimizer for device_type GPU is enabled.\n",
      "2022-05-01 10:53:46.888974: I tensorflow/core/grappler/optimizers/custom_graph_optimizer_registry.cc:113] Plugin optimizer for device_type GPU is enabled.\n"
     ]
    },
    {
     "name": "stdout",
     "output_type": "stream",
     "text": [
      "90/90 - 1s - loss: 0.4310 - 1s/epoch - 14ms/step\n",
      "Epoch 2/20\n",
      "90/90 - 0s - loss: 0.4191 - 395ms/epoch - 4ms/step\n",
      "Epoch 3/20\n",
      "90/90 - 0s - loss: 0.4109 - 387ms/epoch - 4ms/step\n",
      "Epoch 4/20\n",
      "90/90 - 0s - loss: 0.4068 - 365ms/epoch - 4ms/step\n",
      "Epoch 5/20\n",
      "90/90 - 0s - loss: 0.4031 - 356ms/epoch - 4ms/step\n",
      "Epoch 6/20\n",
      "90/90 - 0s - loss: 0.4013 - 376ms/epoch - 4ms/step\n",
      "Epoch 7/20\n",
      "90/90 - 0s - loss: 0.4004 - 387ms/epoch - 4ms/step\n",
      "Epoch 8/20\n",
      "90/90 - 0s - loss: 0.3996 - 370ms/epoch - 4ms/step\n",
      "Epoch 9/20\n",
      "90/90 - 0s - loss: 0.3995 - 361ms/epoch - 4ms/step\n",
      "Epoch 10/20\n",
      "90/90 - 0s - loss: 0.4003 - 354ms/epoch - 4ms/step\n",
      "Epoch 11/20\n",
      "90/90 - 0s - loss: 0.3997 - 355ms/epoch - 4ms/step\n",
      "Epoch 12/20\n",
      "90/90 - 0s - loss: 0.3989 - 375ms/epoch - 4ms/step\n",
      "Epoch 13/20\n",
      "90/90 - 0s - loss: 0.3990 - 360ms/epoch - 4ms/step\n",
      "Epoch 14/20\n",
      "90/90 - 0s - loss: 0.3998 - 376ms/epoch - 4ms/step\n",
      "Epoch 15/20\n",
      "90/90 - 0s - loss: 0.3989 - 395ms/epoch - 4ms/step\n",
      "Epoch 16/20\n",
      "90/90 - 0s - loss: 0.3985 - 394ms/epoch - 4ms/step\n",
      "Epoch 17/20\n",
      "90/90 - 0s - loss: 0.3991 - 390ms/epoch - 4ms/step\n",
      "Epoch 18/20\n",
      "90/90 - 0s - loss: 0.3986 - 389ms/epoch - 4ms/step\n",
      "Epoch 19/20\n",
      "90/90 - 0s - loss: 0.3989 - 379ms/epoch - 4ms/step\n",
      "Epoch 20/20\n",
      "90/90 - 0s - loss: 0.3987 - 386ms/epoch - 4ms/step\n",
      "[[0.15426067]\n",
      " [0.15425602]\n",
      " [0.15425602]\n",
      " [0.15425602]\n",
      " [0.15425134]\n",
      " [0.15408874]\n",
      " [0.15408407]\n",
      " [0.15407944]\n",
      " [0.15407944]\n",
      " [0.15407944]]\n"
     ]
    },
    {
     "name": "stderr",
     "output_type": "stream",
     "text": [
      "2022-05-01 10:53:55.014244: I tensorflow/core/grappler/optimizers/custom_graph_optimizer_registry.cc:113] Plugin optimizer for device_type GPU is enabled.\n",
      "2022-05-01 10:53:55.051786: I tensorflow/core/grappler/optimizers/custom_graph_optimizer_registry.cc:113] Plugin optimizer for device_type GPU is enabled.\n"
     ]
    }
   ],
   "source": [
    "# Train 1 model for each category\n",
    "\n",
    "models = {}\n",
    "\n",
    "for category in Categories[1:2]:\n",
    "    # create and fit the LSTM network\n",
    "    \n",
    "    data = df.loc[df['Category'] == category].iloc[:100, :]\n",
    "\n",
    "    trainX, trainY, testX, testY = load_sets(data)\n",
    "    #trainX = np.reshape(trainX, (trainX.shape[0], trainX.shape[1], 1))\n",
    "    trainX = np.expand_dims(trainX, axis=-1)\n",
    "    testX = np.expand_dims(testX, axis=-1)\n",
    "\n",
    "\n",
    "    model = Sequential()\n",
    "    model.add(LSTM(4))\n",
    "    model.add(Dense(1))\n",
    "    model.compile(loss='mean_squared_error', optimizer='adam')\n",
    "    model.fit(trainX, trainY, epochs=20, batch_size=1, verbose=2)\n",
    "    \n",
    "    data = test.loc[df['Category'] == category].iloc[:100, :]\n",
    "    Xnew = np.array(data[['date', 'price_filled', 'geoCluster']].sort_values(by=['date', 'geoCluster']).copy())\n",
    "    Xnew = np.expand_dims(Xnew, axis=-1)\n",
    "    # ynew = models['Water, sparkling'].predict_classes(Xnew)\n",
    "    \n",
    "    print(model.predict(testX))"
   ]
  },
  {
   "cell_type": "code",
   "execution_count": null,
   "id": "e47ba873",
   "metadata": {},
   "outputs": [],
   "source": [
    "print(models)"
   ]
  },
  {
   "cell_type": "code",
   "execution_count": null,
   "id": "e8e16644",
   "metadata": {
    "scrolled": true
   },
   "outputs": [],
   "source": [
    "data = test.loc[df['Category'] == 'Water, sparkling'].iloc[:200, :]\n",
    "Xnew = data[['date', 'price_filled', 'geoCluster']].sort_values(by=['date', 'geoCluster']).copy()\n",
    "Xnew = np.expand_dims(Xnew, axis=-1)\n",
    "#ynew = models['Water, sparkling'].predict_classes(Xnew)\n",
    "ynew = models['Water, sparkling'].predict(Xnew)"
   ]
  },
  {
   "cell_type": "code",
   "execution_count": null,
   "id": "71099182",
   "metadata": {},
   "outputs": [],
   "source": []
  }
 ],
 "metadata": {
  "kernelspec": {
   "display_name": "Python 3 (ipykernel)",
   "language": "python",
   "name": "python3"
  },
  "language_info": {
   "codemirror_mode": {
    "name": "ipython",
    "version": 3
   },
   "file_extension": ".py",
   "mimetype": "text/x-python",
   "name": "python",
   "nbconvert_exporter": "python",
   "pygments_lexer": "ipython3",
   "version": "3.9.10"
  }
 },
 "nbformat": 4,
 "nbformat_minor": 5
}
