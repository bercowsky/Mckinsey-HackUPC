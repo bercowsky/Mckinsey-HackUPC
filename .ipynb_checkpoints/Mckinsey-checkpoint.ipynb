{
 "cells": [
  {
   "cell_type": "code",
   "execution_count": 3,
   "id": "2180d582",
   "metadata": {},
   "outputs": [],
   "source": [
    "import csv"
   ]
  },
  {
   "cell_type": "code",
   "execution_count": 4,
   "id": "9cb00e66",
   "metadata": {},
   "outputs": [],
   "source": [
    "geo_params = open('../Data/geo_params.csv')\n",
    "sales = open('../Data/sales.csv')\n",
    "sku = open('../Data/sku.csv')\n",
    "test = open('../Data/test.csv')\n",
    "\n",
    "csvreaderGeo_params = csv.reader(geo_params)\n",
    "csvreaderSales = csv.reader(sales)\n",
    "csvreaderSku = csv.reader(sku)\n",
    "csvreaderTest = csv.reader(test)"
   ]
  },
  {
   "cell_type": "code",
   "execution_count": 5,
   "id": "ba9d83db",
   "metadata": {},
   "outputs": [
    {
     "data": {
      "text/plain": [
       "['geoCluster', 'cityId']"
      ]
     },
     "execution_count": 5,
     "metadata": {},
     "output_type": "execute_result"
    }
   ],
   "source": [
    "# Geo_params Headers\n",
    "\n",
    "headerGeo_params = []\n",
    "headerGeo_params = next(csvreaderGeo_params)\n",
    "headerGeo_params"
   ]
  },
  {
   "cell_type": "code",
   "execution_count": 6,
   "id": "5a67d265",
   "metadata": {},
   "outputs": [
    {
     "data": {
      "text/plain": [
       "['ID', 'geoCluster', 'SKU', 'date', 'price', 'sales']"
      ]
     },
     "execution_count": 6,
     "metadata": {},
     "output_type": "execute_result"
    }
   ],
   "source": [
    "# Sales Headers\n",
    "\n",
    "headerSales = []\n",
    "headerSales = next(csvreaderSales)\n",
    "headerSales"
   ]
  },
  {
   "cell_type": "code",
   "execution_count": 7,
   "id": "ba113e39",
   "metadata": {},
   "outputs": [
    {
     "data": {
      "text/plain": [
       "['SKU',\n",
       " 'Category',\n",
       " 'Type',\n",
       " 'brandId',\n",
       " 'lagerUnitQuantity',\n",
       " 'Units',\n",
       " 'trademark',\n",
       " 'countryOfOrigin',\n",
       " 'Group']"
      ]
     },
     "execution_count": 7,
     "metadata": {},
     "output_type": "execute_result"
    }
   ],
   "source": [
    "# Sku Headers\n",
    "\n",
    "headerSku = []\n",
    "headerSku = next(csvreaderSku)\n",
    "headerSku"
   ]
  },
  {
   "cell_type": "code",
   "execution_count": 8,
   "id": "0fa5ddf7",
   "metadata": {},
   "outputs": [
    {
     "data": {
      "text/plain": [
       "['ID', 'geoCluster', 'SKU', 'date', 'price_filled', 'sales']"
      ]
     },
     "execution_count": 8,
     "metadata": {},
     "output_type": "execute_result"
    }
   ],
   "source": [
    "# Test Headers\n",
    "\n",
    "headerTest = []\n",
    "headerTest = next(csvreaderTest)\n",
    "headerTest"
   ]
  },
  {
   "cell_type": "code",
   "execution_count": null,
   "id": "e145ebe7",
   "metadata": {},
   "outputs": [],
   "source": []
  }
 ],
 "metadata": {
  "kernelspec": {
   "display_name": "Python 3 (ipykernel)",
   "language": "python",
   "name": "python3"
  },
  "language_info": {
   "codemirror_mode": {
    "name": "ipython",
    "version": 3
   },
   "file_extension": ".py",
   "mimetype": "text/x-python",
   "name": "python",
   "nbconvert_exporter": "python",
   "pygments_lexer": "ipython3",
   "version": "3.9.9"
  }
 },
 "nbformat": 4,
 "nbformat_minor": 5
}
