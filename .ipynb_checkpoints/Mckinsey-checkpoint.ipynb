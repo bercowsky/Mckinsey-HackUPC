{
 "cells": [
  {
   "cell_type": "code",
   "execution_count": 14,
   "id": "2180d582",
   "metadata": {},
   "outputs": [],
   "source": [
    "import csv\n",
    "import pandas as pd\n",
    "import numpy as np\n",
    "import tensorflow as tf\n",
    "from sklearn.model_selection import train_test_split\n",
    "from sklearn.preprocessing import minmax_scale\n",
    "from keras.models import Sequential\n",
    "from keras.layers import Dense\n",
    "from keras.layers import LSTM"
   ]
  },
  {
   "cell_type": "code",
   "execution_count": 15,
   "id": "d9a9d52c",
   "metadata": {},
   "outputs": [],
   "source": [
    "# Load Dataset\n",
    "\n",
    "def load_data():\n",
    "    geo_params = pd.read_csv('../Data/geo_params.csv')\n",
    "    sales = pd.read_csv('../Data/sales.csv')\n",
    "    sku = pd.read_csv('../Data/sku.csv')\n",
    "    test = pd.read_csv('../Data/test.csv')\n",
    "    \n",
    "    ## Transform dataset\n",
    "    \n",
    "    sales['date'] = pd.to_datetime(sales['date'])\n",
    "    \n",
    "    # Fill null values with 0\n",
    "    sales['price'].fillna(0, inplace=True)\n",
    "    sales['sales'].fillna(0, inplace=True)\n",
    "    \n",
    "    # Normalize data\n",
    "    sales[['price','sales']] = minmax_scale(sales[['price','sales']])\n",
    "    \n",
    "    sku.dropna(subset = ['Category'], inplace=True)\n",
    "    del sku['Units'] # Null field\n",
    "    \n",
    "    return geo_params, sales, sku, test"
   ]
  },
  {
   "cell_type": "code",
   "execution_count": 43,
   "id": "9cb00e66",
   "metadata": {},
   "outputs": [],
   "source": [
    "[geo_params,sales,sku,test] = load_data()\n",
    "\n",
    "# Categories to train the model\n",
    "Categories = sku['Category'].unique()"
   ]
  },
  {
   "cell_type": "code",
   "execution_count": 44,
   "id": "ba9d83db",
   "metadata": {},
   "outputs": [
    {
     "name": "stdout",
     "output_type": "stream",
     "text": [
      "   geoCluster  cityId\n",
      "0          21       1\n",
      "1          47       1\n",
      "2          48       1\n",
      "3          92       1\n",
      "4         112       1\n"
     ]
    }
   ],
   "source": [
    "# Geo_params Headers\n",
    "\n",
    "print(geo_params.head())"
   ]
  },
  {
   "cell_type": "code",
   "execution_count": 45,
   "id": "5a67d265",
   "metadata": {},
   "outputs": [
    {
     "name": "stdout",
     "output_type": "stream",
     "text": [
      "           ID  geoCluster    SKU       date     price     sales\n",
      "0  RR27956459          92  32485 2021-07-05  0.005284  0.004994\n",
      "1  RR27956474          92  32549 2021-07-05  0.012335  0.000624\n",
      "2  RR27956489         112  32485 2021-05-27  0.006263  0.004619\n",
      "3  RR27956490         112  32485 2021-05-28  0.000000  0.000000\n",
      "4  RR27956491         112  32485 2021-05-29  0.000000  0.000000\n"
     ]
    }
   ],
   "source": [
    "# Sales Headers\n",
    "\n",
    "print(sales.head())"
   ]
  },
  {
   "cell_type": "code",
   "execution_count": 46,
   "id": "ba113e39",
   "metadata": {},
   "outputs": [
    {
     "name": "stdout",
     "output_type": "stream",
     "text": [
      "     SKU                  Category  \\\n",
      "0     24               Pomegranate   \n",
      "1    208          Water, sparkling   \n",
      "2   1008  Water, import, sparkling   \n",
      "3  16649              Water, still   \n",
      "4  20872          Water, sparkling   \n",
      "\n",
      "                                            Type  brandId  lagerUnitQuantity  \\\n",
      "0            Tropical fruit — Pomegranate— Plain      NaN                1.0   \n",
      "1  Therapeutic-table water — PET — from 1 to 2 L   1241.0                1.5   \n",
      "2       Therapeutic-table water — Import — Glass   1241.0                0.5   \n",
      "3      Table water — PET — from 1 to 2 L — Still   1241.0                1.5   \n",
      "4  Therapeutic-table water — PET — from 1 to 2 L   2693.0                1.5   \n",
      "\n",
      "   trademark  countryOfOrigin            Group  \n",
      "0        NaN              NaN  Tropical fruits  \n",
      "1     3670.0              1.0    Mineral water  \n",
      "2     4970.0             14.0    Mineral water  \n",
      "3     1323.0              1.0    Mineral water  \n",
      "4     4384.0              1.0    Mineral water  \n"
     ]
    }
   ],
   "source": [
    "# Sku Headers\n",
    "\n",
    "print(sku.head())"
   ]
  },
  {
   "cell_type": "code",
   "execution_count": 47,
   "id": "0fa5ddf7",
   "metadata": {
    "scrolled": true
   },
   "outputs": [
    {
     "name": "stdout",
     "output_type": "stream",
     "text": [
      "           ID  geoCluster    SKU        date  price_filled  sales\n",
      "0  RR27956447          21  32485  2021-07-08         39.69    NaN\n",
      "1  RR27956448          21  32485  2021-07-09         39.69    NaN\n",
      "2  RR27956449          21  32485  2021-07-10         39.69    NaN\n",
      "3  RR27956450          21  32485  2021-07-11         39.69    NaN\n",
      "4  RR27956451          21  32485  2021-07-12         39.69    NaN\n"
     ]
    }
   ],
   "source": [
    "# Test Headers\n",
    "\n",
    "print(test.head())"
   ]
  },
  {
   "cell_type": "code",
   "execution_count": 48,
   "id": "d72316da",
   "metadata": {
    "scrolled": false
   },
   "outputs": [
    {
     "data": {
      "text/html": [
       "<div>\n",
       "<style scoped>\n",
       "    .dataframe tbody tr th:only-of-type {\n",
       "        vertical-align: middle;\n",
       "    }\n",
       "\n",
       "    .dataframe tbody tr th {\n",
       "        vertical-align: top;\n",
       "    }\n",
       "\n",
       "    .dataframe thead th {\n",
       "        text-align: right;\n",
       "    }\n",
       "</style>\n",
       "<table border=\"1\" class=\"dataframe\">\n",
       "  <thead>\n",
       "    <tr style=\"text-align: right;\">\n",
       "      <th></th>\n",
       "      <th>ID</th>\n",
       "      <th>geoCluster</th>\n",
       "      <th>SKU</th>\n",
       "      <th>date</th>\n",
       "      <th>price</th>\n",
       "      <th>sales</th>\n",
       "      <th>Category</th>\n",
       "      <th>Type</th>\n",
       "      <th>brandId</th>\n",
       "      <th>lagerUnitQuantity</th>\n",
       "      <th>trademark</th>\n",
       "      <th>countryOfOrigin</th>\n",
       "      <th>Group</th>\n",
       "    </tr>\n",
       "  </thead>\n",
       "  <tbody>\n",
       "    <tr>\n",
       "      <th>0</th>\n",
       "      <td>RR27956459</td>\n",
       "      <td>92</td>\n",
       "      <td>32485</td>\n",
       "      <td>2021-07-05</td>\n",
       "      <td>0.005284</td>\n",
       "      <td>0.004994</td>\n",
       "      <td>Banana</td>\n",
       "      <td>Banana — Plain</td>\n",
       "      <td>NaN</td>\n",
       "      <td>1.0</td>\n",
       "      <td>NaN</td>\n",
       "      <td>NaN</td>\n",
       "      <td>Tropical fruits</td>\n",
       "    </tr>\n",
       "    <tr>\n",
       "      <th>1</th>\n",
       "      <td>RR27956489</td>\n",
       "      <td>112</td>\n",
       "      <td>32485</td>\n",
       "      <td>2021-05-27</td>\n",
       "      <td>0.006263</td>\n",
       "      <td>0.004619</td>\n",
       "      <td>Banana</td>\n",
       "      <td>Banana — Plain</td>\n",
       "      <td>NaN</td>\n",
       "      <td>1.0</td>\n",
       "      <td>NaN</td>\n",
       "      <td>NaN</td>\n",
       "      <td>Tropical fruits</td>\n",
       "    </tr>\n",
       "    <tr>\n",
       "      <th>2</th>\n",
       "      <td>RR27956490</td>\n",
       "      <td>112</td>\n",
       "      <td>32485</td>\n",
       "      <td>2021-05-28</td>\n",
       "      <td>0.000000</td>\n",
       "      <td>0.000000</td>\n",
       "      <td>Banana</td>\n",
       "      <td>Banana — Plain</td>\n",
       "      <td>NaN</td>\n",
       "      <td>1.0</td>\n",
       "      <td>NaN</td>\n",
       "      <td>NaN</td>\n",
       "      <td>Tropical fruits</td>\n",
       "    </tr>\n",
       "    <tr>\n",
       "      <th>3</th>\n",
       "      <td>RR27956491</td>\n",
       "      <td>112</td>\n",
       "      <td>32485</td>\n",
       "      <td>2021-05-29</td>\n",
       "      <td>0.000000</td>\n",
       "      <td>0.000000</td>\n",
       "      <td>Banana</td>\n",
       "      <td>Banana — Plain</td>\n",
       "      <td>NaN</td>\n",
       "      <td>1.0</td>\n",
       "      <td>NaN</td>\n",
       "      <td>NaN</td>\n",
       "      <td>Tropical fruits</td>\n",
       "    </tr>\n",
       "    <tr>\n",
       "      <th>4</th>\n",
       "      <td>RR27956492</td>\n",
       "      <td>112</td>\n",
       "      <td>32485</td>\n",
       "      <td>2021-05-30</td>\n",
       "      <td>0.000000</td>\n",
       "      <td>0.000000</td>\n",
       "      <td>Banana</td>\n",
       "      <td>Banana — Plain</td>\n",
       "      <td>NaN</td>\n",
       "      <td>1.0</td>\n",
       "      <td>NaN</td>\n",
       "      <td>NaN</td>\n",
       "      <td>Tropical fruits</td>\n",
       "    </tr>\n",
       "  </tbody>\n",
       "</table>\n",
       "</div>"
      ],
      "text/plain": [
       "           ID  geoCluster    SKU       date     price     sales Category  \\\n",
       "0  RR27956459          92  32485 2021-07-05  0.005284  0.004994   Banana   \n",
       "1  RR27956489         112  32485 2021-05-27  0.006263  0.004619   Banana   \n",
       "2  RR27956490         112  32485 2021-05-28  0.000000  0.000000   Banana   \n",
       "3  RR27956491         112  32485 2021-05-29  0.000000  0.000000   Banana   \n",
       "4  RR27956492         112  32485 2021-05-30  0.000000  0.000000   Banana   \n",
       "\n",
       "             Type  brandId  lagerUnitQuantity  trademark  countryOfOrigin  \\\n",
       "0  Banana — Plain      NaN                1.0        NaN              NaN   \n",
       "1  Banana — Plain      NaN                1.0        NaN              NaN   \n",
       "2  Banana — Plain      NaN                1.0        NaN              NaN   \n",
       "3  Banana — Plain      NaN                1.0        NaN              NaN   \n",
       "4  Banana — Plain      NaN                1.0        NaN              NaN   \n",
       "\n",
       "             Group  \n",
       "0  Tropical fruits  \n",
       "1  Tropical fruits  \n",
       "2  Tropical fruits  \n",
       "3  Tropical fruits  \n",
       "4  Tropical fruits  "
      ]
     },
     "execution_count": 48,
     "metadata": {},
     "output_type": "execute_result"
    }
   ],
   "source": [
    "# Merge table sales and sku\n",
    "\n",
    "df = pd.merge(sales, sku, on='SKU', how='inner')\n",
    "df.head()"
   ]
  },
  {
   "cell_type": "code",
   "execution_count": 49,
   "id": "9590d8c3",
   "metadata": {
    "scrolled": true
   },
   "outputs": [
    {
     "name": "stdout",
     "output_type": "stream",
     "text": [
      "ID                           object\n",
      "geoCluster                    int64\n",
      "SKU                           int64\n",
      "date                 datetime64[ns]\n",
      "price                       float64\n",
      "sales                       float64\n",
      "Category                     object\n",
      "Type                         object\n",
      "brandId                     float64\n",
      "lagerUnitQuantity           float64\n",
      "trademark                   float64\n",
      "countryOfOrigin             float64\n",
      "Group                        object\n",
      "dtype: object\n"
     ]
    }
   ],
   "source": [
    "# Types of columns\n",
    "\n",
    "print(df.dtypes)"
   ]
  },
  {
   "cell_type": "code",
   "execution_count": 59,
   "id": "cd6422a7",
   "metadata": {},
   "outputs": [],
   "source": [
    "# Load train and test set\n",
    "\n",
    "def load_sets(data):\n",
    "    X = data[['date', 'price']].copy()\n",
    "    y = data[['sales']].copy()\n",
    "    trainX, testX, trainY, testY = train_test_split(X, y, test_size=0.1, shuffle=False)\n",
    "    return trainX, trainY, testX, testY"
   ]
  },
  {
   "cell_type": "code",
   "execution_count": 60,
   "id": "3583a886",
   "metadata": {},
   "outputs": [
    {
     "name": "stdout",
     "output_type": "stream",
     "text": [
      "Pomegranate (66049, 2) (66049, 1) (7339, 2) (7339, 1)\n",
      "Water, sparkling (212250, 2) (212250, 1) (23584, 2) (23584, 1)\n",
      "Water, import, sparkling (185738, 2) (185738, 1) (20638, 2) (20638, 1)\n",
      "Water, still (207763, 2) (207763, 1) (23085, 2) (23085, 1)\n",
      "Semi-hard coarse-pored cheese (343400, 2) (343400, 1) (38156, 2) (38156, 1)\n",
      "Banana (115188, 2) (115188, 1) (12799, 2) (12799, 1)\n",
      "Avocado (229132, 2) (229132, 1) (25460, 2) (25460, 1)\n",
      "Orange (103050, 2) (103050, 1) (11451, 2) (11451, 1)\n",
      "Grapefruit (133115, 2) (133115, 1) (14791, 2) (14791, 1)\n",
      "Lemon (103980, 2) (103980, 1) (11554, 2) (11554, 1)\n",
      "Water, slightly sparkling (84467, 2) (84467, 1) (9386, 2) (9386, 1)\n",
      "Mango (75942, 2) (75942, 1) (8439, 2) (8439, 1)\n",
      "Semi-hard bulk cheese (82992, 2) (82992, 1) (9222, 2) (9222, 1)\n",
      "Milk cakes (67931, 2) (67931, 1) (7548, 2) (7548, 1)\n",
      "Kiwi (88196, 2) (88196, 1) (9800, 2) (9800, 1)\n",
      "Lime (90837, 2) (90837, 1) (10093, 2) (10093, 1)\n",
      "Plain long loaf, own production (43676, 2) (43676, 1) (4853, 2) (4853, 1)\n",
      "Plain baguette loaf, own production (46847, 2) (46847, 1) (5206, 2) (5206, 1)\n",
      "Small flavored bread roll, own production (60116, 2) (60116, 1) (6680, 2) (6680, 1)\n",
      "Plain wheat bread, toast-type, own production (39551, 2) (39551, 1) (4395, 2) (4395, 1)\n",
      "Sweet bun, own production (64644, 2) (64644, 1) (7183, 2) (7183, 1)\n",
      "Plain fancy cake, own production (54347, 2) (54347, 1) (6039, 2) (6039, 1)\n",
      "Rye-wheat grain bread baked in the hearth, own production (43896, 2) (43896, 1) (4878, 2) (4878, 1)\n",
      "Plain baguette loaf baked in the hearth, own production (96066, 2) (96066, 1) (10674, 2) (10674, 1)\n",
      "Plain croissant, parbaking (47462, 2) (47462, 1) (5274, 2) (5274, 1)\n",
      "Plain rye-wheat bread, parbaking (74203, 2) (74203, 1) (8245, 2) (8245, 1)\n",
      "Fancy strudel with poppy stuff, own production (51308, 2) (51308, 1) (5701, 2) (5701, 1)\n",
      "Soft cheese, white mold (84554, 2) (84554, 1) (9395, 2) (9395, 1)\n",
      "Flavored baguette loaf baked in the hearth, own production (37463, 2) (37463, 1) (4163, 2) (4163, 1)\n",
      "Plain bread roll baked in the hearth, own production (43125, 2) (43125, 1) (4792, 2) (4792, 1)\n",
      "Semi-hard layered cheese (49618, 2) (49618, 1) (5514, 2) (5514, 1)\n",
      "Flavored wheat bread baked in the hearth, own production (82972, 2) (82972, 1) (9220, 2) (9220, 1)\n",
      "Grain bread roll baked in the hearth, own production (34337, 2) (34337, 1) (3816, 2) (3816, 1)\n",
      "Small fancy bread with berry stuff, own production (128101, 2) (128101, 1) (14234, 2) (14234, 1)\n",
      "Milk desserts (72628, 2) (72628, 1) (8070, 2) (8070, 1)\n",
      "Ciabatta, light, plain, parbaking (68195, 2) (68195, 1) (7578, 2) (7578, 1)\n",
      "Wheat bran bread baked in the hearth, own production (76892, 2) (76892, 1) (8544, 2) (8544, 1)\n",
      "Yoghurts (162586, 2) (162586, 1) (18066, 2) (18066, 1)\n",
      "Mandarin (57024, 2) (57024, 1) (6337, 2) (6337, 1)\n"
     ]
    }
   ],
   "source": [
    "# Train 1 model for each category\n",
    "\n",
    "for category in Categories:\n",
    "    data = df.loc[df['Category'] == category]\n",
    "    \n",
    "    trainX, trainY, testX, testY = load_sets(data)\n",
    "    \n",
    "    \n",
    "    #print(category, trainX.shape, trainY.shape, testX.shape, testY.shape)"
   ]
  },
  {
   "cell_type": "code",
   "execution_count": null,
   "id": "81e5da25",
   "metadata": {},
   "outputs": [],
   "source": [
    "trainX = train.iloc[:, :-1].to_numpy()\n",
    "trainY = train.iloc[:, -1].to_numpy()\n",
    "\n",
    "testX = test.iloc[:, :-1].to_numpy()\n",
    "testY = test.iloc[:, -1].to_numpy()\n",
    "\n",
    "\n",
    "# reshape input to be [samples, time steps, features]\n",
    "trainX = np.reshape(trainX, (trainX.shape[0], 1, trainX.shape[1]))\n",
    "testX = np.reshape(testX, (testX.shape[0], 1, testX.shape[1]))\n",
    "\n"
   ]
  },
  {
   "cell_type": "code",
   "execution_count": null,
   "id": "25423e48",
   "metadata": {},
   "outputs": [],
   "source": [
    "# create and fit the LSTM network\n",
    "\n",
    "look_back = 1\n",
    "model = Sequential()\n",
    "model.add(LSTM(4, input_shape=(1, look_back)))\n",
    "model.add(Dense(1))\n",
    "model.compile(loss='mean_squared_error', optimizer='adam')\n",
    "model.fit(trainX, trainY, epochs=100, batch_size=1, verbose=2)"
   ]
  },
  {
   "cell_type": "code",
   "execution_count": null,
   "id": "d63d1064",
   "metadata": {},
   "outputs": [],
   "source": [
    "lstm_model(train, test)"
   ]
  },
  {
   "cell_type": "code",
   "execution_count": null,
   "id": "bafb833f",
   "metadata": {},
   "outputs": [],
   "source": []
  }
 ],
 "metadata": {
  "kernelspec": {
   "display_name": "Python 3 (ipykernel)",
   "language": "python",
   "name": "python3"
  },
  "language_info": {
   "codemirror_mode": {
    "name": "ipython",
    "version": 3
   },
   "file_extension": ".py",
   "mimetype": "text/x-python",
   "name": "python",
   "nbconvert_exporter": "python",
   "pygments_lexer": "ipython3",
   "version": "3.9.10"
  }
 },
 "nbformat": 4,
 "nbformat_minor": 5
}
