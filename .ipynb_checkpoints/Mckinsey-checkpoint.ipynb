{
 "cells": [
  {
   "cell_type": "code",
   "execution_count": 18,
   "id": "2180d582",
   "metadata": {},
   "outputs": [],
   "source": [
    "import csv"
   ]
  },
  {
   "cell_type": "code",
   "execution_count": 19,
   "id": "451c83fe",
   "metadata": {},
   "outputs": [],
   "source": [
    "# Load Dataset\n",
    "\n",
    "def load_data():\n",
    "    geo_params = open('../Data/geo_params.csv')\n",
    "    sales = open('../Data/sales.csv')\n",
    "    sku = open('../Data/sku.csv')\n",
    "    test = open('../Data/test.csv')\n",
    "\n",
    "    csvreaderGeo_params = csv.reader(geo_params)\n",
    "    csvreaderSales = csv.reader(sales)\n",
    "    csvreaderSku = csv.reader(sku)\n",
    "    csvreaderTest = csv.reader(test)\n",
    "    \n",
    "    return [csvreaderGeo_params, csvreaderSales, csvreaderSku, csvreaderTest]"
   ]
  },
  {
   "cell_type": "code",
   "execution_count": 20,
   "id": "9cb00e66",
   "metadata": {},
   "outputs": [],
   "source": [
    "[csvreaderGeo_params,csvreaderSales,csvreaderSku,csvreaderTest] = load_data()"
   ]
  },
  {
   "cell_type": "code",
   "execution_count": 21,
   "id": "ba9d83db",
   "metadata": {},
   "outputs": [
    {
     "data": {
      "text/plain": [
       "['geoCluster', 'cityId']"
      ]
     },
     "execution_count": 21,
     "metadata": {},
     "output_type": "execute_result"
    }
   ],
   "source": [
    "# Geo_params Headers\n",
    "\n",
    "headerGeo_params = []\n",
    "headerGeo_params = next(csvreaderGeo_params)\n",
    "headerGeo_params"
   ]
  },
  {
   "cell_type": "code",
   "execution_count": 22,
   "id": "5a67d265",
   "metadata": {},
   "outputs": [
    {
     "data": {
      "text/plain": [
       "['ID', 'geoCluster', 'SKU', 'date', 'price', 'sales']"
      ]
     },
     "execution_count": 22,
     "metadata": {},
     "output_type": "execute_result"
    }
   ],
   "source": [
    "# Sales Headers\n",
    "\n",
    "headerSales = []\n",
    "headerSales = next(csvreaderSales)\n",
    "headerSales"
   ]
  },
  {
   "cell_type": "code",
   "execution_count": 23,
   "id": "ba113e39",
   "metadata": {},
   "outputs": [
    {
     "data": {
      "text/plain": [
       "['SKU',\n",
       " 'Category',\n",
       " 'Type',\n",
       " 'brandId',\n",
       " 'lagerUnitQuantity',\n",
       " 'Units',\n",
       " 'trademark',\n",
       " 'countryOfOrigin',\n",
       " 'Group']"
      ]
     },
     "execution_count": 23,
     "metadata": {},
     "output_type": "execute_result"
    }
   ],
   "source": [
    "# Sku Headers\n",
    "\n",
    "headerSku = []\n",
    "headerSku = next(csvreaderSku)\n",
    "headerSku"
   ]
  },
  {
   "cell_type": "code",
   "execution_count": 24,
   "id": "0fa5ddf7",
   "metadata": {},
   "outputs": [
    {
     "data": {
      "text/plain": [
       "['ID', 'geoCluster', 'SKU', 'date', 'price_filled', 'sales']"
      ]
     },
     "execution_count": 24,
     "metadata": {},
     "output_type": "execute_result"
    }
   ],
   "source": [
    "# Test Headers\n",
    "\n",
    "headerTest = []\n",
    "headerTest = next(csvreaderTest)\n",
    "headerTest"
   ]
  },
  {
   "cell_type": "code",
   "execution_count": 25,
   "id": "e145ebe7",
   "metadata": {},
   "outputs": [
    {
     "ename": "SyntaxError",
     "evalue": "invalid syntax (3837654211.py, line 5)",
     "output_type": "error",
     "traceback": [
      "\u001b[0;36m  Input \u001b[0;32mIn [25]\u001b[0;36m\u001b[0m\n\u001b[0;31m    X_train, y_train, X_test, y_test, scaler_object =\u001b[0m\n\u001b[0m                                                         ^\u001b[0m\n\u001b[0;31mSyntaxError\u001b[0m\u001b[0;31m:\u001b[0m invalid syntax\n"
     ]
    }
   ],
   "source": [
    "# Long Short-Term memory Neural Network\n",
    "\n",
    "def lstm_model(train_data, test_data):\n",
    "    # Call helper functions to create X & y and scale data\n",
    "    X_train, y_train, X_test, y_test, scaler_object =    \n",
    "        scale_data(train_data, test_data)\n",
    "    X_train = X_train.reshape(X_train.shape[0], 1, X_train.shape[1])\n",
    "    X_test = X_test.reshape(X_test.shape[0], 1, X_test.shape[1])\n",
    "    # Build LSTM\n",
    "    model = Sequential()\n",
    "    model.add(LSTM(4, batch_input_shape=(1, X_train.shape[1], \n",
    "                                         X_train.shape[2]), \n",
    "                                         stateful=True))\n",
    "    model.add(Dense(1))\n",
    "    model.add(Dense(1))\n",
    "    model.compile(loss='mean_squared_error', optimizer='adam')\n",
    "    model.fit(X_train, y_train, epochs=200, batch_size=1, verbose=1, \n",
    "              shuffle=False)\n",
    "    predictions = model.predict(X_test, batch_size=1)\n",
    "    # Call helper functions to undo scaling & create prediction df\n",
    "    original_df = load_data('../data/monthly_data.csv')\n",
    "    unscaled = undo_scaling(predictions, X_test, scaler_object, \n",
    "                            lstm=True)\n",
    "    unscaled_df = predict_df(unscaled, original_df)\n",
    "    # Call helper functions to print scores and plot results\n",
    "    get_scores(unscaled_df, original_df, 'LSTM')\n",
    "    plot_results(unscaled_df, original_df, 'LSTM')"
   ]
  },
  {
   "cell_type": "code",
   "execution_count": null,
   "id": "9b35ec77",
   "metadata": {},
   "outputs": [],
   "source": []
  }
 ],
 "metadata": {
  "kernelspec": {
   "display_name": "Python 3 (ipykernel)",
   "language": "python",
   "name": "python3"
  },
  "language_info": {
   "codemirror_mode": {
    "name": "ipython",
    "version": 3
   },
   "file_extension": ".py",
   "mimetype": "text/x-python",
   "name": "python",
   "nbconvert_exporter": "python",
   "pygments_lexer": "ipython3",
   "version": "3.9.9"
  }
 },
 "nbformat": 4,
 "nbformat_minor": 5
}
